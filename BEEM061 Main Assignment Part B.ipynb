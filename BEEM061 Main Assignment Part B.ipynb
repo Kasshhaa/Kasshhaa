{
 "cells": [
  {
   "cell_type": "code",
   "execution_count": 2,
   "id": "f8d264ff",
   "metadata": {},
   "outputs": [],
   "source": [
    "import json\n",
    "import requests\n",
    "import datetime \n"
   ]
  },
  {
   "cell_type": "markdown",
   "id": "ca0b68f0",
   "metadata": {},
   "source": [
    "# 1.1 Extract Information From Transaction"
   ]
  },
  {
   "cell_type": "code",
   "execution_count": 3,
   "id": "c11a3920",
   "metadata": {},
   "outputs": [
    {
     "name": "stdout",
     "output_type": "stream",
     "text": [
      "txcount: 277448\n",
      "time: 1664282019\n",
      "totalFees: 0.33298939999999977\n",
      "confirmations: 15822\n",
      "miner: qdlnk\n",
      "The block was mined on: 2022-09-27 13:33:39\n"
     ]
    }
   ],
   "source": [
    "\n",
    "# fetching data from the whatsonchain API\n",
    "my_answer = requests.get(\"https://api.whatsonchain.com/v1/bsv/main/block/height/758992\")\n",
    "answer_json = json.loads(my_answer.text)\n",
    "\n",
    "# obtaining the information from the block \n",
    "print(\"txcount: \" + str(answer_json[\"txcount\"]))\n",
    "print(\"time: \" + str(answer_json[\"time\"]))\n",
    "print(\"totalFees: \" + str(answer_json[\"totalFees\"]))\n",
    "print(\"confirmations: \" + str(answer_json[\"confirmations\"]))\n",
    "print(\"miner: \" + str(answer_json[\"miner\"]))\n",
    "\n",
    "# converting the unix timestamp into human read- able format to the nearest second.\n",
    "timestamp = datetime.datetime.fromtimestamp(answer_json[\"time\"])\n",
    "print (\"The block was mined on: \" + str(timestamp.strftime(\"%Y-%m-%d %H:%M:%S\")))\n",
    "\n"
   ]
  },
  {
   "cell_type": "markdown",
   "id": "37833d21",
   "metadata": {},
   "source": [
    "# Explaining each of the parts of the block in words.\n",
    "\n",
    "txcount : This is the transaction counter and it shows the number of transactions contained by the block which is 277,448  \n",
    "\n",
    "time : This shows the timestamp of the block\n",
    "\n",
    "totalFees : this is the transaction costs\n",
    "\n",
    "confirmation: the number of block confirmations that have happened which is 14,130\n",
    "\n",
    "miner : this is the validator of the information within a bloc block "
   ]
  },
  {
   "cell_type": "markdown",
   "id": "7391f41b",
   "metadata": {},
   "source": [
    "# 2.1 Time Series Data"
   ]
  },
  {
   "cell_type": "code",
   "execution_count": 4,
   "id": "817105ff",
   "metadata": {},
   "outputs": [
    {
     "name": "stdout",
     "output_type": "stream",
     "text": [
      "[*********************100%***********************]  1 of 1 completed\n"
     ]
    }
   ],
   "source": [
    "\n",
    "import pandas as pd\n",
    "from fredapi import Fred\n",
    "import numpy as np\n",
    "fred = Fred(api_key=\"6f278b4aa22e45ccdd5f1abc83e61964\")\n",
    "\n",
    "import yfinance as yf\n",
    "df_yahoo = yf.download('AAPL',\n",
    "start='2014-12-01',\n",
    "end='2022-11-01')\n",
    "\n",
    "# series of the price of Coinbase Bitcoin\n",
    "CBBTCUSD= fred.get_series(\"CBBTCUSD\", title= \"Coinbase Bitcoin\", observation_start='2014-12-01', \n",
    "                          observation_end='2022-11-01')\n",
    "\n",
    "\n",
    "# series of the price of Gold \n",
    "# ID7108= fred.get_series(\"ID7108\", title= \"Gold\", observation_start='2014-12-01', observation_end='2022-11-01')\n",
    "\n",
    "\n",
    "# series of the price of S&P 500 \n",
    "SP500 =fred.get_series(\"SP500\",title= \"S&P 500\", observation_start='2014-12-01', \n",
    "                          observation_end='2022-11-01')\n"
   ]
  },
  {
   "cell_type": "markdown",
   "id": "bdfb5006",
   "metadata": {},
   "source": [
    "# 2.2 Data Transformations"
   ]
  },
  {
   "cell_type": "code",
   "execution_count": 6,
   "id": "22b3bd8f",
   "metadata": {},
   "outputs": [
    {
     "data": {
      "text/html": [
       "<div>\n",
       "<style scoped>\n",
       "    .dataframe tbody tr th:only-of-type {\n",
       "        vertical-align: middle;\n",
       "    }\n",
       "\n",
       "    .dataframe tbody tr th {\n",
       "        vertical-align: top;\n",
       "    }\n",
       "\n",
       "    .dataframe thead th {\n",
       "        text-align: right;\n",
       "    }\n",
       "</style>\n",
       "<table border=\"1\" class=\"dataframe\">\n",
       "  <thead>\n",
       "    <tr style=\"text-align: right;\">\n",
       "      <th></th>\n",
       "      <th>CBBTCUSD</th>\n",
       "      <th>APPLE</th>\n",
       "      <th>SP500</th>\n",
       "    </tr>\n",
       "  </thead>\n",
       "  <tbody>\n",
       "    <tr>\n",
       "      <th>2014-12-01</th>\n",
       "      <td>0.000000</td>\n",
       "      <td>0.000000</td>\n",
       "      <td>0.000000</td>\n",
       "    </tr>\n",
       "    <tr>\n",
       "      <th>2014-12-02</th>\n",
       "      <td>0.021391</td>\n",
       "      <td>-0.003831</td>\n",
       "      <td>0.006364</td>\n",
       "    </tr>\n",
       "    <tr>\n",
       "      <th>2014-12-03</th>\n",
       "      <td>0.000000</td>\n",
       "      <td>0.011277</td>\n",
       "      <td>0.003758</td>\n",
       "    </tr>\n",
       "    <tr>\n",
       "      <th>2014-12-04</th>\n",
       "      <td>-0.002384</td>\n",
       "      <td>-0.003803</td>\n",
       "      <td>-0.001162</td>\n",
       "    </tr>\n",
       "    <tr>\n",
       "      <th>2014-12-05</th>\n",
       "      <td>0.000000</td>\n",
       "      <td>-0.004252</td>\n",
       "      <td>0.001664</td>\n",
       "    </tr>\n",
       "    <tr>\n",
       "      <th>...</th>\n",
       "      <td>...</td>\n",
       "      <td>...</td>\n",
       "      <td>...</td>\n",
       "    </tr>\n",
       "    <tr>\n",
       "      <th>2022-10-27</th>\n",
       "      <td>-0.023066</td>\n",
       "      <td>-0.030939</td>\n",
       "      <td>-0.006101</td>\n",
       "    </tr>\n",
       "    <tr>\n",
       "      <th>2022-10-28</th>\n",
       "      <td>0.015012</td>\n",
       "      <td>0.072834</td>\n",
       "      <td>0.024328</td>\n",
       "    </tr>\n",
       "    <tr>\n",
       "      <th>2022-10-29</th>\n",
       "      <td>0.011451</td>\n",
       "      <td>0.000000</td>\n",
       "      <td>0.000000</td>\n",
       "    </tr>\n",
       "    <tr>\n",
       "      <th>2022-10-30</th>\n",
       "      <td>-0.009465</td>\n",
       "      <td>0.000000</td>\n",
       "      <td>0.000000</td>\n",
       "    </tr>\n",
       "    <tr>\n",
       "      <th>2022-10-31</th>\n",
       "      <td>-0.007890</td>\n",
       "      <td>0.000000</td>\n",
       "      <td>0.000000</td>\n",
       "    </tr>\n",
       "  </tbody>\n",
       "</table>\n",
       "<p>2892 rows × 3 columns</p>\n",
       "</div>"
      ],
      "text/plain": [
       "            CBBTCUSD     APPLE     SP500\n",
       "2014-12-01  0.000000  0.000000  0.000000\n",
       "2014-12-02  0.021391 -0.003831  0.006364\n",
       "2014-12-03  0.000000  0.011277  0.003758\n",
       "2014-12-04 -0.002384 -0.003803 -0.001162\n",
       "2014-12-05  0.000000 -0.004252  0.001664\n",
       "...              ...       ...       ...\n",
       "2022-10-27 -0.023066 -0.030939 -0.006101\n",
       "2022-10-28  0.015012  0.072834  0.024328\n",
       "2022-10-29  0.011451  0.000000  0.000000\n",
       "2022-10-30 -0.009465  0.000000  0.000000\n",
       "2022-10-31 -0.007890  0.000000  0.000000\n",
       "\n",
       "[2892 rows x 3 columns]"
      ]
     },
     "execution_count": 6,
     "metadata": {},
     "output_type": "execute_result"
    }
   ],
   "source": [
    "\n",
    "# three data series  placed together into a Pandas DataFrame with compatible time periods\n",
    "df = {}\n",
    "df['CBBTCUSD'] = fred.get_series('CBBTCUSD', observation_start='2014-12-01', observation_end='2022-10-31')\n",
    "df['APPLE'] = df_yahoo[\"Close\"]\n",
    "df['SP500'] = fred.get_series('SP500', observation_start='2014-12-01', observation_end='2022-10-31')\n",
    "df = pd.DataFrame(df)\n",
    "df\n",
    "\n",
    "# Transforming observations into returns \n",
    "new_df = np.log(df) - np.log(df.shift(1))\n",
    "new_df.fillna(0)"
   ]
  },
  {
   "cell_type": "markdown",
   "id": "00e45353",
   "metadata": {},
   "source": [
    "# 2.3 Data Data Analysis"
   ]
  },
  {
   "cell_type": "code",
   "execution_count": 20,
   "id": "efe33d32",
   "metadata": {},
   "outputs": [
    {
     "data": {
      "text/plain": [
       "Text(0.5, 1.0, 'Expected Return versus Risk')"
      ]
     },
     "execution_count": 20,
     "metadata": {},
     "output_type": "execute_result"
    },
    {
     "data": {
      "image/png": "[encoded data removed]",
      "text/plain": [
       "<Figure size 432x288 with 1 Axes>"
      ]
     },
     "metadata": {
      "needs_background": "light"
     },
     "output_type": "display_data"
    }
   ],
   "source": [
    "\n",
    "import matplotlib.pyplot as plt \n",
    "import numpy as np\n",
    "\n",
    "# Make the plot\n",
    "x = new_df.std().tolist()\n",
    "y = new_df.mean().tolist()\n",
    "symbols = new_df.columns\n",
    "# Scatterplot and annotation\n",
    "plt.scatter(x, y)\n",
    "for index, symbol in enumerate(symbols):\n",
    "    plt.annotate(symbol, (x[index], y[index]))\n",
    "#plt.plot(np.unique(x),\n",
    "        # np.poly1d(np.polyfit(x, y, 1))(np.unique(x)),\n",
    "         #color='black')\n",
    "# Title and axis\n",
    "plt.xlabel('Risk')\n",
    "plt.ylabel('Expected Return')\n",
    "plt.title('Expected Return versus Risk')\n"
   ]
  },
  {
   "cell_type": "markdown",
   "id": "87b680c5",
   "metadata": {},
   "source": [
    "The bitcoin stock (CBBTCUSD), is the most volatile, so according to CAPM theory, it has the higest return and also \n",
    "the highest risk\n",
    "\n",
    "The APPLE stock is relatively safer so the risk is lower and the return is also lower because of the risk return tradeoff\n",
    "\n",
    "Finally, the market index, SP500 has the lowest risk of the three and also the lowest return \n"
   ]
  },
  {
   "cell_type": "code",
   "execution_count": 32,
   "id": "13a00b20",
   "metadata": {},
   "outputs": [
    {
     "name": "stdout",
     "output_type": "stream",
     "text": [
      "                            OLS Regression Results                            \n",
      "==============================================================================\n",
      "Dep. Variable:               CBBTCUSD   R-squared:                       0.039\n",
      "Model:                            OLS   Adj. R-squared:                  0.038\n",
      "Method:                 Least Squares   F-statistic:                     62.53\n",
      "Date:                Sun, 15 Jan 2023   Prob (F-statistic):           4.95e-15\n",
      "Time:                        15:26:40   Log-Likelihood:                 2538.4\n",
      "No. Observations:                1544   AIC:                            -5073.\n",
      "Df Residuals:                    1542   BIC:                            -5062.\n",
      "Df Model:                           1                                         \n",
      "Covariance Type:            nonrobust                                         \n",
      "==============================================================================\n",
      "                 coef    std err          t      P>|t|      [0.025      0.975]\n",
      "------------------------------------------------------------------------------\n",
      "const          0.0007      0.001      0.566      0.572      -0.002       0.003\n",
      "SP500          0.8233      0.104      7.908      0.000       0.619       1.027\n",
      "==============================================================================\n",
      "Omnibus:                     1078.075   Durbin-Watson:                   2.325\n",
      "Prob(Omnibus):                  0.000   Jarque-Bera (JB):           249236.131\n",
      "Skew:                          -2.190   Prob(JB):                         0.00\n",
      "Kurtosis:                      65.088   Cond. No.                         87.5\n",
      "==============================================================================\n",
      "\n",
      "Notes:\n",
      "[1] Standard Errors assume that the covariance matrix of the errors is correctly specified.\n"
     ]
    }
   ],
   "source": [
    "# Add a constant variable\n",
    "new_df['const'] = 1\n",
    "\n",
    "reg1 = sma.OLS(endog=new_df[\"CBBTCUSD\"], exog=new_df[['const',\"SP500\"]], missing='drop')\n",
    "result= reg1.fit()\n",
    "print(result.summary())                                               \n",
    "                                             "
   ]
  },
  {
   "cell_type": "markdown",
   "id": "0ad985a8",
   "metadata": {},
   "source": [
    "Alpha is 0.0007 and Beta is 0.8233 and this is the risk return trade off.\n",
    "\n",
    "Hight beta means high risk, high return and a low beta means  low risk, low return. \n",
    "\n",
    "Alpha is excess return over and above what you would expect the asset to have. All assets should have  zero in theory. Since it's positive, people get a higher return than they should have gotten given the risk return relationships in the market \n"
   ]
  },
  {
   "cell_type": "markdown",
   "id": "54fecfab",
   "metadata": {},
   "source": [
    "You're going to find a time series here for a particular overall index, and you're just going to do a linear regression of that on that.\n"
   ]
  },
  {
   "cell_type": "markdown",
   "id": "67b4b8dc",
   "metadata": {},
   "source": [
    "# 3.1 High Level Description of FinTech Firm \n"
   ]
  },
  {
   "cell_type": "markdown",
   "id": "6a42226c",
   "metadata": {},
   "source": [
    "Sarunas’ Fin Tech firm provides loans for people based on a Machine Learning algorithm that predicts the probability a person will default on a loan and deny or approve the loan based on that.\n",
    "The firm uses a dockerized application consisting of 4 main components to provide this service. \n",
    "The first component is Jupyter. This is where the machine learning model predicts a person’s probability of defaulting a loan. \n",
    "The Streamlit UI let’s the user interact with the application, to register and apply for loans and receive feedback on their loan application. \n",
    "When a user registers, their data is stored in the Postgres Database and it also stores requests and responses.\n",
    "FastAPI is what is used to host the application to allow the user receive the results of the machine learning model."
   ]
  },
  {
   "cell_type": "markdown",
   "id": "7c8bd3c7",
   "metadata": {},
   "source": [
    "# 3.2 Written description of Python Code"
   ]
  },
  {
   "cell_type": "code",
   "execution_count": 34,
   "id": "c5ca82be",
   "metadata": {},
   "outputs": [],
   "source": [
    "import pandas as pd\n",
    "import pickle\n",
    "from sklearn.model_selection import train_test_split\n",
    "from sklearn.preprocessing import MinMaxScaler\n",
    "from sklearn.linear_model import LogisticRegression\n",
    "from sklearn.pipeline import Pipeline\n",
    "from sklearn.metrics import roc_auc_score, roc_curve, accuracy_score\n",
    "import matplotlib.pyplot as plt\n",
    "import seaborn as sns\n",
    "sns.set_style('white')\n",
    "import numpy as np"
   ]
  },
  {
   "cell_type": "code",
   "execution_count": 35,
   "id": "2ae08d92",
   "metadata": {},
   "outputs": [],
   "source": [
    "features = ['loan_amnt', 'annual_inc', 'term', 'emp_length']"
   ]
  },
  {
   "cell_type": "markdown",
   "id": "54edcffd",
   "metadata": {},
   "source": [
    "This line creates a list of columns from the dataset to transform the data"
   ]
  },
  {
   "cell_type": "code",
   "execution_count": null,
   "id": "8eabcf01",
   "metadata": {},
   "outputs": [],
   "source": [
    "a = pd.read_csv('accepted_2007_to_2018Q4.csv', usecols=features+['loan_status'])"
   ]
  },
  {
   "cell_type": "markdown",
   "id": "4af3f520",
   "metadata": {},
   "source": [
    "The dataset is read with pandas and only the specified columns are used to create a pandas dataframe"
   ]
  },
  {
   "cell_type": "code",
   "execution_count": null,
   "id": "a914f79c",
   "metadata": {},
   "outputs": [],
   "source": [
    "full_set = a.query(\"loan_status in ('Fully Paid', 'Charged Off')\").copy()"
   ]
  },
  {
   "cell_type": "markdown",
   "id": "0293143f",
   "metadata": {},
   "source": [
    "A new dataframe is created by deleting the rows in 'loan_status' that are not either 'Fully Paid' or 'Charged Off'"
   ]
  },
  {
   "cell_type": "code",
   "execution_count": null,
   "id": "efe00b44",
   "metadata": {},
   "outputs": [],
   "source": [
    "full_set = full_set.dropna(subset=['emp_length'])"
   ]
  },
  {
   "cell_type": "markdown",
   "id": "b9d59e6f",
   "metadata": {},
   "source": [
    "All rows in the 'emp_length' column that have missing values are removed"
   ]
  },
  {
   "cell_type": "code",
   "execution_count": null,
   "id": "954d078b",
   "metadata": {},
   "outputs": [],
   "source": [
    "full_set['loan_status'] = full_set['loan_status'].replace(\n",
    "    {\n",
    "        'Fully Paid': 1,\n",
    "        'Charged Off': 0\n",
    "    }\n",
    ")\n",
    "\n",
    "full_set['term'] = full_set['term'].replace(\n",
    "    {\n",
    "        ' 36 months': 36,\n",
    "        ' 60 months': 60\n",
    "    }\n",
    ")"
   ]
  },
  {
   "cell_type": "markdown",
   "id": "ed3fc8a4",
   "metadata": {},
   "source": [
    "This line replaces 'Fully Paid' with 1 and 'Charged Off' with 0 in the 'loan_status' column. It also replaces '36 months' with 36 and '60 months' with 60 in the 'term' column."
   ]
  },
  {
   "cell_type": "code",
   "execution_count": null,
   "id": "d8387242",
   "metadata": {},
   "outputs": [],
   "source": [
    "full_set['emp_length'] = full_set['emp_length'].map(lambda x: x.split(' ')[0])\n",
    "full_set['emp_length'] = full_set['emp_length'].map(lambda x: str(x).replace('+', '').replace('<', '0'))"
   ]
  },
  {
   "cell_type": "code",
   "execution_count": null,
   "id": "8992e3b5",
   "metadata": {},
   "outputs": [],
   "source": [
    "model_features = list(full_set.columns)\n",
    "model_features.remove('loan_status')"
   ]
  },
  {
   "cell_type": "code",
   "execution_count": null,
   "id": "031b8171",
   "metadata": {},
   "outputs": [],
   "source": [
    "full_set.head()"
   ]
  },
  {
   "cell_type": "code",
   "execution_count": null,
   "id": "b4c87312",
   "metadata": {},
   "outputs": [],
   "source": [
    "X_train, X_test, y_train, y_test = train_test_split(\n",
    "    full_set[model_features],\n",
    "    full_set['loan_status'],\n",
    "    random_state=42\n",
    ")"
   ]
  },
  {
   "cell_type": "code",
   "execution_count": null,
   "id": "b598e12b",
   "metadata": {},
   "outputs": [],
   "source": [
    "model = LogisticRegression()\n",
    "scaler = MinMaxScaler()"
   ]
  },
  {
   "cell_type": "code",
   "execution_count": null,
   "id": "8840f1d1",
   "metadata": {},
   "outputs": [],
   "source": [
    "pipeline = Pipeline([('scaler', scaler), ('model', model)])"
   ]
  },
  {
   "cell_type": "code",
   "execution_count": null,
   "id": "5776c347",
   "metadata": {},
   "outputs": [],
   "source": [
    "pipeline.fit(X_train, y_train)"
   ]
  },
  {
   "cell_type": "code",
   "execution_count": null,
   "id": "08a8ca5b",
   "metadata": {},
   "outputs": [],
   "source": [
    "test_probas = pipeline.predict_proba(X_test)[:,1]\n",
    "\n",
    "fpr, tpr, tresholds = roc_curve(y_test, test_probas)\n",
    "plt.plot(fpr, tpr, color='red')\n",
    "plt.title('ROC')\n",
    "plt.xlabel('FPR')\n",
    "plt.ylabel('TPR')\n",
    "plt.grid()\n",
    "\n",
    "print('ROC-AUC-score: ', roc_auc_score(y_test, test_probas))"
   ]
  },
  {
   "cell_type": "code",
   "execution_count": null,
   "id": "0f24dbd3",
   "metadata": {},
   "outputs": [],
   "source": [
    "def _compute_accuracy_for_thresholds(data: pd.core.frame.DataFrame):\n",
    "    \"\"\"\n",
    "    Compute Classifier's Accuracy for various thresholds\n",
    "    \"\"\"\n",
    "    \n",
    "    thresholds = np.linspace(0, 1, 100)\n",
    "    \n",
    "    accuracies = []\n",
    "    \n",
    "    for threshold in thresholds:\n",
    "        preds = data['preds'].map(lambda x: 1 if x > threshold else 0)\n",
    "        accuracy_ = accuracy_score(data['labels'].values, preds)\n",
    "        accuracies.append(accuracy_)\n",
    "    \n",
    "    return accuracies, thresholds"
   ]
  },
  {
   "cell_type": "code",
   "execution_count": null,
   "id": "618ed1e0",
   "metadata": {},
   "outputs": [],
   "source": [
    "X_test['preds'] = test_probas\n",
    "X_test['labels'] = y_test"
   ]
  },
  {
   "cell_type": "code",
   "execution_count": null,
   "id": "ea0bea79",
   "metadata": {},
   "outputs": [],
   "source": [
    "accuracies, thresholds = _compute_accuracy_for_thresholds(X_test)"
   ]
  },
  {
   "cell_type": "code",
   "execution_count": null,
   "id": "c80bc3bb",
   "metadata": {},
   "outputs": [],
   "source": [
    "plt.plot(thresholds.reshape(-1, 1), accuracies, label='Thresholds')\n",
    "plt.axhline(\n",
    "    (X_test['labels'].sum()) / len(X_test), color='red', label='No Model Accuracy')\n",
    "plt.grid()\n",
    "plt.title('Accuracy for various Thresholds')\n",
    "plt.xlabel('Threshold')\n",
    "plt.ylabel('Accuracy of Predictions')\n",
    "plt.legend()\n",
    "plt.show()"
   ]
  },
  {
   "cell_type": "code",
   "execution_count": null,
   "id": "eedf0d07",
   "metadata": {},
   "outputs": [],
   "source": [
    "accuracy_score(X_test['labels'].values, list(map(lambda x: 1 if x > 0.7 else 0, X_test['preds'])))"
   ]
  },
  {
   "cell_type": "code",
   "execution_count": null,
   "id": "c35b10dc",
   "metadata": {},
   "outputs": [],
   "source": [
    "with open('app/model.pkl', 'wb') as f:\n",
    "    pickle.dump(pipeline, f)"
   ]
  },
  {
   "cell_type": "code",
   "execution_count": null,
   "id": "81fdfe57",
   "metadata": {},
   "outputs": [],
   "source": [
    "model = pickle.load(\n",
    "    open('app/model.pkl', 'rb')\n",
    ")"
   ]
  },
  {
   "cell_type": "markdown",
   "id": "4c0c4930",
   "metadata": {},
   "source": [
    "# 3.3 Machine Learning Model\n",
    "\n",
    "Predicting if tomorrows price of apple stock would increase based on todays price"
   ]
  },
  {
   "cell_type": "code",
   "execution_count": 52,
   "id": "dbb11c5f",
   "metadata": {},
   "outputs": [],
   "source": [
    "import pandas as pd\n",
    "import numpy as np\n",
    "from sklearn.ensemble import RandomForestClassifier\n",
    "from sklearn.metrics import precision_score\n",
    "import matplotlib.pyplot as plt"
   ]
  },
  {
   "cell_type": "code",
   "execution_count": 53,
   "id": "9167ae08",
   "metadata": {},
   "outputs": [
    {
     "data": {
      "text/plain": [
       "<AxesSubplot:xlabel='Date'>"
      ]
     },
     "execution_count": 53,
     "metadata": {},
     "output_type": "execute_result"
    },
    {
     "data": {
      "image/png": "[encoded data removed]",
      "text/plain": [
       "<Figure size 432x288 with 1 Axes>"
      ]
     },
     "metadata": {},
     "output_type": "display_data"
    }
   ],
   "source": [
    "# reading in the csv file for apple\n",
    "aapl = pd.read_csv('AAPL.csv', index_col = 'Date')\n",
    "aapl.head()\n",
    "aapl.plot.line(y=\"Close\", use_index=True)"
   ]
  },
  {
   "cell_type": "code",
   "execution_count": 54,
   "id": "ec534275",
   "metadata": {},
   "outputs": [],
   "source": [
    "dataset = aapl[['Close']]\n",
    "dataset = dataset.rename(columns = {'Close':'Test_Close'})\n",
    "\n",
    "# assigning a score of 0 when the price went down and 1 when prices goes up \n",
    "dataset[\"Score\"] = aapl.rolling(2).apply(lambda x: x.iloc[1] > x.iloc[0])[\"Close\"]\n",
    "\n",
    "# shifting the prices by one day \n",
    "aapl_prev = aapl.copy()\n",
    "aapl_prev = aapl_prev.shift(1)\n",
    "\n",
    "data_columns = [\"Close\", \"Volume\", \"Open\", \"High\", \"Low\"]\n",
    "dataset = dataset.join(aapl_prev[data_columns]).iloc[1:]\n",
    "dataset = dataset.iloc[5000:]"
   ]
  },
  {
   "cell_type": "code",
   "execution_count": 55,
   "id": "1652f2f3",
   "metadata": {},
   "outputs": [
    {
     "data": {
      "text/html": [
       "<style>#sk-container-id-1 {color: black;background-color: white;}#sk-container-id-1 pre{padding: 0;}#sk-container-id-1 div.sk-toggleable {background-color: white;}#sk-container-id-1 label.sk-toggleable__label {cursor: pointer;display: block;width: 100%;margin-bottom: 0;padding: 0.3em;box-sizing: border-box;text-align: center;}#sk-container-id-1 label.sk-toggleable__label-arrow:before {content: \"▸\";float: left;margin-right: 0.25em;color: #696969;}#sk-container-id-1 label.sk-toggleable__label-arrow:hover:before {color: black;}#sk-container-id-1 div.sk-estimator:hover label.sk-toggleable__label-arrow:before {color: black;}#sk-container-id-1 div.sk-toggleable__content {max-height: 0;max-width: 0;overflow: hidden;text-align: left;background-color: #f0f8ff;}#sk-container-id-1 div.sk-toggleable__content pre {margin: 0.2em;color: black;border-radius: 0.25em;background-color: #f0f8ff;}#sk-container-id-1 input.sk-toggleable__control:checked~div.sk-toggleable__content {max-height: 200px;max-width: 100%;overflow: auto;}#sk-container-id-1 input.sk-toggleable__control:checked~label.sk-toggleable__label-arrow:before {content: \"▾\";}#sk-container-id-1 div.sk-estimator input.sk-toggleable__control:checked~label.sk-toggleable__label {background-color: #d4ebff;}#sk-container-id-1 div.sk-label input.sk-toggleable__control:checked~label.sk-toggleable__label {background-color: #d4ebff;}#sk-container-id-1 input.sk-hidden--visually {border: 0;clip: rect(1px 1px 1px 1px);clip: rect(1px, 1px, 1px, 1px);height: 1px;margin: -1px;overflow: hidden;padding: 0;position: absolute;width: 1px;}#sk-container-id-1 div.sk-estimator {font-family: monospace;background-color: #f0f8ff;border: 1px dotted black;border-radius: 0.25em;box-sizing: border-box;margin-bottom: 0.5em;}#sk-container-id-1 div.sk-estimator:hover {background-color: #d4ebff;}#sk-container-id-1 div.sk-parallel-item::after {content: \"\";width: 100%;border-bottom: 1px solid gray;flex-grow: 1;}#sk-container-id-1 div.sk-label:hover label.sk-toggleable__label {background-color: #d4ebff;}#sk-container-id-1 div.sk-serial::before {content: \"\";position: absolute;border-left: 1px solid gray;box-sizing: border-box;top: 0;bottom: 0;left: 50%;z-index: 0;}#sk-container-id-1 div.sk-serial {display: flex;flex-direction: column;align-items: center;background-color: white;padding-right: 0.2em;padding-left: 0.2em;position: relative;}#sk-container-id-1 div.sk-item {position: relative;z-index: 1;}#sk-container-id-1 div.sk-parallel {display: flex;align-items: stretch;justify-content: center;background-color: white;position: relative;}#sk-container-id-1 div.sk-item::before, #sk-container-id-1 div.sk-parallel-item::before {content: \"\";position: absolute;border-left: 1px solid gray;box-sizing: border-box;top: 0;bottom: 0;left: 50%;z-index: -1;}#sk-container-id-1 div.sk-parallel-item {display: flex;flex-direction: column;z-index: 1;position: relative;background-color: white;}#sk-container-id-1 div.sk-parallel-item:first-child::after {align-self: flex-end;width: 50%;}#sk-container-id-1 div.sk-parallel-item:last-child::after {align-self: flex-start;width: 50%;}#sk-container-id-1 div.sk-parallel-item:only-child::after {width: 0;}#sk-container-id-1 div.sk-dashed-wrapped {border: 1px dashed gray;margin: 0 0.4em 0.5em 0.4em;box-sizing: border-box;padding-bottom: 0.4em;background-color: white;}#sk-container-id-1 div.sk-label label {font-family: monospace;font-weight: bold;display: inline-block;line-height: 1.2em;}#sk-container-id-1 div.sk-label-container {text-align: center;}#sk-container-id-1 div.sk-container {/* jupyter's `normalize.less` sets `[hidden] { display: none; }` but bootstrap.min.css set `[hidden] { display: none !important; }` so we also need the `!important` here to be able to override the default hidden behavior on the sphinx rendered scikit-learn.org. See: https://github.com/scikit-learn/scikit-learn/issues/21755 */display: inline-block !important;position: relative;}#sk-container-id-1 div.sk-text-repr-fallback {display: none;}</style><div id=\"sk-container-id-1\" class=\"sk-top-container\"><div class=\"sk-text-repr-fallback\"><pre>RandomForestClassifier(min_samples_split=50, n_estimators=1000, random_state=1)</pre><b>In a Jupyter environment, please rerun this cell to show the HTML representation or trust the notebook. <br />On GitHub, the HTML representation is unable to render, please try loading this page with nbviewer.org.</b></div><div class=\"sk-container\" hidden><div class=\"sk-item\"><div class=\"sk-estimator sk-toggleable\"><input class=\"sk-toggleable__control sk-hidden--visually\" id=\"sk-estimator-id-1\" type=\"checkbox\" checked><label for=\"sk-estimator-id-1\" class=\"sk-toggleable__label sk-toggleable__label-arrow\">RandomForestClassifier</label><div class=\"sk-toggleable__content\"><pre>RandomForestClassifier(min_samples_split=50, n_estimators=1000, random_state=1)</pre></div></div></div></div></div>"
      ],
      "text/plain": [
       "RandomForestClassifier(min_samples_split=50, n_estimators=1000, random_state=1)"
      ]
     },
     "execution_count": 55,
     "metadata": {},
     "output_type": "execute_result"
    }
   ],
   "source": [
    "# classification algorithm using the last 100 items to train and testing it on the rest of the data\n",
    "model = RandomForestClassifier(n_estimators=1000, min_samples_split=50, random_state=1)\n",
    "\n",
    "train = dataset.iloc[:-100]\n",
    "test = dataset.iloc[-100:]\n",
    "\n",
    "model.fit(train[data_columns], train[\"Score\"])"
   ]
  },
  {
   "cell_type": "code",
   "execution_count": 56,
   "id": "4c6f5094",
   "metadata": {},
   "outputs": [],
   "source": [
    "# making predictions across the entire dataset and train the model every 150 rows starting with 300 as initial set\n",
    "def backtest(dataset, model, columns, start=300, step=150):\n",
    "    predictions = []\n",
    "    for i in range(start, dataset.shape[0], step):\n",
    "        train = dataset.iloc[0:i].copy()\n",
    "        test = dataset.iloc[i:(i+step)].copy()\n",
    "\n",
    "        model.fit(train[data_columns], train[\"Score\"])\n",
    "\n",
    "# if model predicts a 60% chance that price would go up then it would issue 1 and 0 otherwise\n",
    "        predicts = model.predict_proba(test[columns])[:,1]\n",
    "        predicts = pd.Series(predicts, index=test.index)\n",
    "        predicts[predicts > .6] = 1\n",
    "        predicts[predicts<=.6] = 0\n",
    "\n",
    "        combined = pd.concat({\"Score\": test[\"Score\"],\"Predictions\": predicts}, axis=1)\n",
    "\n",
    "        predictions.append(combined)\n",
    "\n",
    "    return pd.concat(predictions)"
   ]
  },
  {
   "cell_type": "code",
   "execution_count": 57,
   "id": "b0fb62fd",
   "metadata": {},
   "outputs": [],
   "source": [
    "predictions = backtest(dataset, model, data_columns)"
   ]
  },
  {
   "cell_type": "code",
   "execution_count": 58,
   "id": "e6d62da1",
   "metadata": {},
   "outputs": [
    {
     "data": {
      "text/plain": [
       "0.5272331154684096"
      ]
     },
     "execution_count": 58,
     "metadata": {},
     "output_type": "execute_result"
    }
   ],
   "source": [
    "# gives model accuracy \n",
    "\n",
    "precision_score(predictions[\"Score\"], predictions[\"Predictions\"])"
   ]
  },
  {
   "cell_type": "code",
   "execution_count": null,
   "id": "a2375985",
   "metadata": {},
   "outputs": [],
   "source": []
  }
 ],
 "metadata": {
  "kernelspec": {
   "display_name": "Python 3 (ipykernel)",
   "language": "python",
   "name": "python3"
  },
  "language_info": {
   "codemirror_mode": {
    "name": "ipython",
    "version": 3
   },
   "file_extension": ".py",
   "mimetype": "text/x-python",
   "name": "python",
   "nbconvert_exporter": "python",
   "pygments_lexer": "ipython3",
   "version": "3.9.12"
  }
 },
 "nbformat": 4,
 "nbformat_minor": 5
}
