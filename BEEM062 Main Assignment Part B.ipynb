{
 "cells": [
  {
   "cell_type": "code",
   "execution_count": 222,
   "id": "127c8990",
   "metadata": {},
   "outputs": [],
   "source": [
    "import pandas as pd\n",
    "import quandl\n",
    "import requests\n",
    "import json\n",
    "import numpy as np\n",
    "import matplotlib.pyplot as plt\n",
    "import requests\n",
    "import datetime\n",
    "import cryptocompare\n",
    "from sklearn.model_selection import train_test_split\n",
    "from sklearn.metrics import mean_squared_error\n",
    "from sklearn.linear_model import Lasso\n",
    "import warnings\n",
    "warnings.filterwarnings(\"ignore\")"
   ]
  },
  {
   "cell_type": "markdown",
   "id": "b2b60f3b",
   "metadata": {},
   "source": [
    "## 2. Time Series and GD in Python and NumPy"
   ]
  },
  {
   "cell_type": "code",
   "execution_count": 176,
   "id": "7a9b4bee",
   "metadata": {},
   "outputs": [],
   "source": [
    "# Getting quandl API\n",
    "key_1 = quandl.ApiConfig.api_key = \"JepaoR-rKUDTh3xZw2Xr\"\n",
    "\n",
    "#Generating time series of Silver\n",
    "silver = quandl.get(\"LBMA/SILVER\", start_date=\"2020-06-9\", end_date=\"2020-07-04\")\n",
    "xt_data = pd.DataFrame.from_dict(silver)\n",
    "xt= xt_data[\"GBP\"]\n",
    "xt\n",
    "\n",
    "\n",
    "# Getting cryptoCompare API\n",
    "cryptocompare_API_key = \"bbff4feae034140397b945771b365bcf41b3bf6f3e4e0df64bb69670b498638a\"\n",
    "cryptocompare.cryptocompare._set_api_key_parameter(cryptocompare_API_key)\n",
    "\n",
    "# Generating time series of btc price and setting date time index\n",
    "btc= cryptocompare.get_historical_price_day('BTC', 'GBP', limit=24, exchange='CCCAGG', toTs=datetime.datetime(2020,7,4))\n",
    "btc_data = pd.DataFrame.from_dict(btc)\n",
    "btc_data.set_index(\"time\", inplace=True)\n",
    "btc_data.index = pd.to_datetime(btc_data.index, unit='s')\n",
    "btc_data['datetimes'] = btc_data.index\n",
    "btc_data['datetimes'] = btc_data['datetimes'].dt.strftime(\n",
    "    '%Y-%m-%d')\n",
    "yt= btc_data[\"close\"]"
   ]
  },
  {
   "cell_type": "code",
   "execution_count": 177,
   "id": "4a4b9c23",
   "metadata": {},
   "outputs": [],
   "source": [
    "# Ensuring that both Btc and Silver are the same length\n",
    "df ={}\n",
    "df['Silver'] = xt_data[\"GBP\"]\n",
    "df[\"Btc\"] = btc_data[\"close\"]\n",
    "df = pd.DataFrame(df).fillna(method =\"ffill\")\n",
    "\n",
    "# Creating a one dimensional array of both Btc and Silver \n",
    "x= np.array(df[\"Silver\"])\n",
    "y= np.array(df[\"Btc\"])"
   ]
  },
  {
   "cell_type": "markdown",
   "id": "93fc04ed",
   "metadata": {},
   "source": [
    "#### Finding OLS estimates from standard OLS formulae"
   ]
  },
  {
   "cell_type": "code",
   "execution_count": 178,
   "id": "7feb62db",
   "metadata": {},
   "outputs": [
    {
     "name": "stdout",
     "output_type": "stream",
     "text": [
      "Estimated alpha (intercept): 10302.207519569227\n",
      "Estimated beta (slope): -197.7874883298927\n"
     ]
    }
   ],
   "source": [
    "# Use numpy to estimate parameters α and β\n",
    "beta = ((np.multiply(y, x)).mean()-np.mean(x)*np.mean(y))/((np.multiply(x, x)).mean()-np.mean(x)*np.mean(x))\n",
    "alpha =np.mean(y)-beta*np.mean(x)\n",
    "\n",
    "print(\"Estimated alpha (intercept):\", alpha)\n",
    "print(\"Estimated beta (slope):\", beta)"
   ]
  },
  {
   "cell_type": "code",
   "execution_count": 179,
   "id": "081e1639",
   "metadata": {},
   "outputs": [
    {
     "data": {
      "text/plain": [
       "332852.46148844133"
      ]
     },
     "execution_count": 179,
     "metadata": {},
     "output_type": "execute_result"
    }
   ],
   "source": [
    "y_hat0 = alpha + np.multiply(beta,x)\n",
    "L = np.sum(np.multiply(y - y_hat0,y - y_hat0))\n",
    "L"
   ]
  },
  {
   "cell_type": "markdown",
   "id": "81d5053f",
   "metadata": {},
   "source": [
    "#### Finding OLS estimates from Machine Learning with a Gradient Descent"
   ]
  },
  {
   "cell_type": "code",
   "execution_count": 180,
   "id": "e427ffea",
   "metadata": {},
   "outputs": [
    {
     "data": {
      "text/plain": [
       "array([7550.8645378 , 7566.68753686, 7523.17428943, 7546.90878803,\n",
       "       7546.90878803, 7546.90878803, 7608.22290941, 7588.44416058,\n",
       "       7560.75391221, 7525.15216432, 7511.30704013, 7511.30704013,\n",
       "       7511.30704013, 7457.90441828, 7481.63891688, 7489.55041642,\n",
       "       7523.17428943, 7469.77166758, 7469.77166758, 7469.77166758,\n",
       "       7436.14779457, 7432.1920448 , 7404.50179643, 7475.70529223,\n",
       "       7448.01504387])"
      ]
     },
     "execution_count": 180,
     "metadata": {},
     "output_type": "execute_result"
    }
   ],
   "source": [
    "alpha = 10310\n",
    "\n",
    "y_hat = alpha + np.multiply(beta,x)\n",
    "y_hat"
   ]
  },
  {
   "cell_type": "code",
   "execution_count": 181,
   "id": "14f957ec",
   "metadata": {},
   "outputs": [],
   "source": [
    "iterations = 500\n",
    "learningrate = 0.01\n",
    "def  cal_cost(alpha,beta,x,y):\n",
    "        n = len(y)\n",
    "        predictions = alpha + np.multiply(beta,x)\n",
    "        cost = (1/2*n) * np.sum(np.square(predictions-y))\n",
    "        return cost"
   ]
  },
  {
   "cell_type": "code",
   "execution_count": 182,
   "id": "fb712882",
   "metadata": {},
   "outputs": [
    {
     "data": {
      "text/plain": [
       "4179631.6283755107"
      ]
     },
     "execution_count": 182,
     "metadata": {},
     "output_type": "execute_result"
    }
   ],
   "source": [
    "cal_cost(alpha,beta,x,y)"
   ]
  },
  {
   "cell_type": "code",
   "execution_count": 183,
   "id": "ba0cd0e9",
   "metadata": {},
   "outputs": [
    {
     "data": {
      "text/plain": [
       "4179631.6283755107"
      ]
     },
     "execution_count": 183,
     "metadata": {},
     "output_type": "execute_result"
    }
   ],
   "source": [
    "cal_cost(10310,beta,x,y)"
   ]
  },
  {
   "cell_type": "code",
   "execution_count": 184,
   "id": "6383a721",
   "metadata": {},
   "outputs": [
    {
     "data": {
      "text/plain": [
       "[<matplotlib.lines.Line2D at 0x7fde801413a0>]"
      ]
     },
     "execution_count": 184,
     "metadata": {},
     "output_type": "execute_result"
    },
    {
     "data": {
      "image/png": "[encoded data removed]",
      "text/plain": [
       "<Figure size 432x288 with 1 Axes>"
      ]
     },
     "metadata": {
      "needs_background": "light"
     },
     "output_type": "display_data"
    }
   ],
   "source": [
    "iterations = 21\n",
    "alpha = 10291\n",
    "\n",
    "loss_history = np.zeros((iterations,1))\n",
    "alpha_history = np.zeros((iterations,1))\n",
    "\n",
    "for i in range(iterations):\n",
    "    alpha = alpha +1\n",
    "    \n",
    "    loss_history[i] = cal_cost(alpha,beta,x,y)\n",
    "    alpha_history[i] = alpha\n",
    "    \n",
    "plt.plot(alpha_history,loss_history,'go')"
   ]
  },
  {
   "cell_type": "code",
   "execution_count": 185,
   "id": "e5f0b995",
   "metadata": {},
   "outputs": [
    {
     "data": {
      "text/plain": [
       "[<matplotlib.lines.Line2D at 0x7fdef1e9fd00>]"
      ]
     },
     "execution_count": 185,
     "metadata": {},
     "output_type": "execute_result"
    },
    {
     "data": {
      "image/png": "[encoded data removed]",
      "text/plain": [
       "<Figure size 432x288 with 1 Axes>"
      ]
     },
     "metadata": {
      "needs_background": "light"
     },
     "output_type": "display_data"
    }
   ],
   "source": [
    "iterations = 1000\n",
    "alpha = 10291\n",
    "n = len(y)\n",
    "\n",
    "loss_history = np.zeros((iterations,1))\n",
    "alpha_history = np.zeros((iterations,1))\n",
    "\n",
    "for i in range(iterations):\n",
    "    \n",
    "        \n",
    "        prediction = alpha + np.multiply(beta,x)\n",
    "        residuals = y-prediction\n",
    "        residuals_sum = sum(residuals)\n",
    "        gradient = -(1/n)*0.1*residuals_sum\n",
    " \n",
    "        alpha = alpha - gradient\n",
    "    \n",
    "        loss_history[i] = cal_cost(alpha,beta,x,y)\n",
    "        alpha_history[i] = alpha\n",
    "    \n",
    "plt.plot(alpha_history,loss_history,'go')"
   ]
  },
  {
   "cell_type": "markdown",
   "id": "007cb02d",
   "metadata": {},
   "source": [
    "    A popular variation of gradient descent is called Stochastic Gradient Descent (SGD). SGD modifies the model parameters using the gradient of the loss function after processing each training example as opposed to the traditional gradient descent, which waits until the end of an epoch or batch. This is more efficient for larger data sets and may result in quicker convergence because the model is updated more frequently. SGD also includes some noise during the training process, which can help the model escape local minima and explore the solution space extensively, resulting in better generalisation and increased accuracy"
   ]
  },
  {
   "cell_type": "markdown",
   "id": "4d397c63",
   "metadata": {},
   "source": [
    "    Convergence to a loss function minimum can be complex due to a couple of challenges.\n",
    "    1. Local minima happen when the optimisation algorithm gets stuck in a local minimum, preventing it from finding the global minimum. \n",
    "    2. Plateaus: The optimisation process can slow down or stop when the loss function has a plateau.\n",
    "    3. Ill-conditioned: The optimisation process can be difficult when the loss function is ill-conditioned.\n",
    "    \n",
    "    To combat these challenges, techniques such as \n",
    "    1. Careful initialisation: Choosing the initial parameters of the model carefully \n",
    "    2. Regularisation: Techniques such as L1 or L2 regularisation can help eliminate overfitting\n",
    "    3. Learning rate scheduling: This can optimise convergence to the minimum. \n",
    "    4. Advanced optimisation algorithms can optimise the process to overcome local minima and plateaus more efficiently. E.g.: Adam and RMSprop"
   ]
  },
  {
   "cell_type": "markdown",
   "id": "953c29cc",
   "metadata": {},
   "source": [
    "## 3. AI and the Blockchain"
   ]
  },
  {
   "cell_type": "markdown",
   "id": "e478aa9c",
   "metadata": {},
   "source": [
    " ### Discuss whether Bitcoin is Turing Complete. Include reference to Ian Grigg’s paper cited on the course and contrast this view to mainstream views. "
   ]
  },
  {
   "cell_type": "markdown",
   "id": "745d93a3",
   "metadata": {},
   "source": [
    "    Bitcoin is not Turing complete. Ian Grigg contends that Bitcoin is not Turing complete in his work \"Financial Cryptography in 7 Layers.\" According to Grigg, the scripting language employed by Bitcoin is intentionally limited to prevent arbitrary computations from being used to attack the network or create other problems. Consequently, Satoshi Nakamoto, the person who invented Bitcoin, set this restriction as part of the design process because he intended to develop a user-friendly and safe cryptocurrency system.\n",
    "      \n",
    "    The majority of opinions agree with Grigg's conclusion that Bitcoin is not Turing complete. The functions that the Bitcoin scripting language may perform are intended to be kept to a minimum. These include performing conditional statements, executing transfers of money between addresses, and validating signatures. The majority of transactions on the Bitcoin network can be completed with just these operations, but more is required to support general-purpose computation.\n",
    "      \n",
    "     In my opinion, Bitcoin is not Turing complete, which is in line with the general consensus. Although the majority of the functions required for financial transactions can be supported by Bitcoin's scripting language, it is not intended to handle arbitrary computations. This restriction is set on purpose to preserve the stability and security of the network. Although some alternative cryptocurrencies have Turing-complete scripting languages implemented, they have also had some problems, such as scalability and security flaws. I believe that Bitcoin's limited scripting language is a benefit, not a drawback, and contributes to the long-term sustainability of the network."
   ]
  },
  {
   "cell_type": "markdown",
   "id": "8a636b25",
   "metadata": {},
   "source": [
    " ### ChatGPT: Discussion Question: How does ChatGPT differ from traditional chatbots, and what are the potential benefits and drawbacks of using a large language model like ChatGPT for conversational AI? Do you think this is a good question?"
   ]
  },
  {
   "cell_type": "markdown",
   "id": "064fadd4",
   "metadata": {},
   "source": [
    "    This is a good question because it explores the advantages and disadvantages of using a large language model like ChatGPT for conversational AI, which is rapidly evolving with considerable implications for various industries. The question spurs an investigation into the abilities and limitations of ChatGPT in comparison to traditional chatbots. Understanding the benefits and drawbacks of ChatGPT can help users make informed decisions about whether and how to use this technology in their conversational AI applications. Traditional chatbots use rule-based techniques to generate responses, restricting their ability to create creative responses. In contrast, ChatGPT develops more human-like responses by drawing on extensive natural language data.\n",
    "    \n",
    "    The likely benefits of using ChatGPT for conversational AI includes:\n",
    "\tChatGPT can comprehend and generate replies in natural language because it can understand the intricacies of human conversation.\n",
    "\tCompared to conventional chatbots, ChatGPT can produce cleverer, varied, and contextually suitable responses. \n",
    "\tChatGPT is more flexible than traditional chatbots since it can adapt to various conversational scenarios and circumstances.\n",
    "    \n",
    "    The likely drawbacks include:\n",
    "\tChatGPT may produce inappropriate or offensive responses because it bases its response generation on training data.\n",
    "\tSmaller organisations may find it difficult to employ ChatGPT because they require an extensive computational capacity to train and use.\n",
    "\tChatGPT requires a lot of data to train, which might raise questions about how personal data is collected and used.\n",
    "\n",
    "    Ultimately, the quality of everyday interactions can be enhanced using ChatGPT for conversational AI. Nevertheless, potential downsides like privacy issues and inappropriate responses must also be considered.\n",
    "\n",
    "\n"
   ]
  },
  {
   "cell_type": "markdown",
   "id": "6749b5e0",
   "metadata": {},
   "source": [
    "###     Finally, in another 250 words to what extent do you think Blockchain technology could provide a solution to any systemic problems coming from AI? (again refer to the Ian Grigg paper, amongst other sources)."
   ]
  },
  {
   "cell_type": "markdown",
   "id": "a1a23974",
   "metadata": {},
   "source": [
    "      Some of the systemic issues that may result from the use of AI may be addressed by blockchain technology. It is often challenging to pinpoint the origin of algorithmic decisions, which is one of the fundamental issues with AI. In light of this, it may be difficult to spot and eliminate biases or errors in the decision-making process. Blockchain technology, which is decentralised and transparent, can assist in resolving this problem by providing an immutable record of the data used to train AI models and the decisions made by these models\n",
    "      \n",
    "    According to Ian Grigg's paper, blockchain technology can be used to give AI systems an audit trail, allowing businesses to confirm the data's origin and the judgements made by algorithms. This promotes the fairness, accountability, and transparency of AI systems. Furthermore, blockchain technology can build decentralised marketplaces for data, giving people the ability to manage and monetize their data independently from major corporations.\n",
    "    \n",
    "    The use of blockchain technology to address systemic issues in AI is not without its limitations. The ability of blockchain systems to handle the massive amounts of data needed for AI applications can be one of the key challenges. Additionally, because blockchain systems use a lot of energy to run, there are concerns about the environment impact.\n",
    "    \n",
    "    In conclusion, while blockchain technology may be able to address some of the systemic issues related to AI, it is not a magic fix. It should be viewed as one instrument among many in the on-going effort to ensure that AI systems are fair, transparent, and accountable.\n"
   ]
  },
  {
   "cell_type": "markdown",
   "id": "395c8d03",
   "metadata": {},
   "source": [
    "## 4. Time Series Forecasting"
   ]
  },
  {
   "cell_type": "markdown",
   "id": "9d5d784b",
   "metadata": {},
   "source": [
    "I decided to forecast the price of Bitcoin (BTC) for this analysis. Since Bitcoin is one of the most well-known and widely accepted cryptocurrencies in the world. Addtionally, the price of Bitcoin is unpredictable and volatile, which makes it an interesting series to study.\n",
    "\n",
    "Factors that Affect Bitcoin's Price\n",
    "    Supply and Demand: Similar to any other asset, supply and demand have an impact on the price of bitcoin. Price increases are likely to occur in situations when there is a great demand for Bitcoin but a small supply.\n",
    "\tGovernment Policies: Government policies and laws can have a big impact on the price of bitcoin. Any limitations or bans on Bitcoin may result in less demand and a decline in price.\n",
    "    Market Attitude: The attitude of the market and investors can have an effect on the price of bitcoin. Positive news or events may boost prices, but negative news may result in a decrease in prices.\n",
    "    Competition: The emergence of other cryptocurrencies and alternative investments may also have an impact on the price of bitcoin since they may divert investors' attention from it.\n",
    "\n",
    "Making predictions about the price of Bitcoin using machine learning methods can give investors useful information about the variables that influence its value and aid in strategic decision-making. However, it is crucial to remember that the cryptocurrency market is extremely unpredictable and volatile, so past results may not necessarily be indicative of future results."
   ]
  },
  {
   "cell_type": "code",
   "execution_count": 378,
   "id": "7ddadeb8",
   "metadata": {},
   "outputs": [],
   "source": [
    "btc_coins = pd.DataFrame()\n",
    "my_crypo_key = \" \""
   ]
  },
  {
   "cell_type": "code",
   "execution_count": 403,
   "id": "ba8d70c0",
   "metadata": {},
   "outputs": [],
   "source": [
    "URL_A = \"https://min-api.cryptocompare.com/data/v2/histoday?fsym=BTC&tsym=USD&limit=10 &api_key= JepaoR-rKUDTh3xZw2Xr\"\n",
    "URL = URL_A + my_crypo_key\n",
    "data = requests.get(URL)\n",
    "json_data = data.json()\n",
    "table = pandas.json_normalize(datah,'Data').set_index('time')\n",
    "table.index = pandas.to_datetime(table.index, unit='s')\n",
    "btc_coins = pd.concat ([btc_coins, table.high], axis=1)\n",
    "\n",
    "    "
   ]
  },
  {
   "cell_type": "code",
   "execution_count": 380,
   "id": "2dec82fc",
   "metadata": {},
   "outputs": [
    {
     "data": {
      "text/html": [
       "<div>\n",
       "<style scoped>\n",
       "    .dataframe tbody tr th:only-of-type {\n",
       "        vertical-align: middle;\n",
       "    }\n",
       "\n",
       "    .dataframe tbody tr th {\n",
       "        vertical-align: top;\n",
       "    }\n",
       "\n",
       "    .dataframe thead th {\n",
       "        text-align: right;\n",
       "    }\n",
       "</style>\n",
       "<table border=\"1\" class=\"dataframe\">\n",
       "  <thead>\n",
       "    <tr style=\"text-align: right;\">\n",
       "      <th></th>\n",
       "      <th>high</th>\n",
       "    </tr>\n",
       "  </thead>\n",
       "  <tbody>\n",
       "    <tr>\n",
       "      <th>2023-04-20 00:00:00</th>\n",
       "      <td>29094.52</td>\n",
       "    </tr>\n",
       "    <tr>\n",
       "      <th>2023-04-21 00:00:00</th>\n",
       "      <td>28360.43</td>\n",
       "    </tr>\n",
       "    <tr>\n",
       "      <th>2023-04-22 00:00:00</th>\n",
       "      <td>27882.99</td>\n",
       "    </tr>\n",
       "    <tr>\n",
       "      <th>2023-04-23 00:00:00</th>\n",
       "      <td>27822.64</td>\n",
       "    </tr>\n",
       "    <tr>\n",
       "      <th>2023-04-24 00:00:00</th>\n",
       "      <td>27989.50</td>\n",
       "    </tr>\n",
       "    <tr>\n",
       "      <th>2023-04-25 00:00:00</th>\n",
       "      <td>28396.41</td>\n",
       "    </tr>\n",
       "    <tr>\n",
       "      <th>2023-04-26 00:00:00</th>\n",
       "      <td>30017.37</td>\n",
       "    </tr>\n",
       "    <tr>\n",
       "      <th>2023-04-27 00:00:00</th>\n",
       "      <td>29891.79</td>\n",
       "    </tr>\n",
       "    <tr>\n",
       "      <th>2023-04-28 00:00:00</th>\n",
       "      <td>29604.84</td>\n",
       "    </tr>\n",
       "    <tr>\n",
       "      <th>2023-04-29 00:00:00</th>\n",
       "      <td>29463.49</td>\n",
       "    </tr>\n",
       "    <tr>\n",
       "      <th>2023-04-30 00:00:00</th>\n",
       "      <td>29963.23</td>\n",
       "    </tr>\n",
       "  </tbody>\n",
       "</table>\n",
       "</div>"
      ],
      "text/plain": [
       "                         high\n",
       "2023-04-20 00:00:00  29094.52\n",
       "2023-04-21 00:00:00  28360.43\n",
       "2023-04-22 00:00:00  27882.99\n",
       "2023-04-23 00:00:00  27822.64\n",
       "2023-04-24 00:00:00  27989.50\n",
       "2023-04-25 00:00:00  28396.41\n",
       "2023-04-26 00:00:00  30017.37\n",
       "2023-04-27 00:00:00  29891.79\n",
       "2023-04-28 00:00:00  29604.84\n",
       "2023-04-29 00:00:00  29463.49\n",
       "2023-04-30 00:00:00  29963.23"
      ]
     },
     "execution_count": 380,
     "metadata": {},
     "output_type": "execute_result"
    }
   ],
   "source": [
    "btc_coins"
   ]
  },
  {
   "cell_type": "code",
   "execution_count": 381,
   "id": "254f609e",
   "metadata": {},
   "outputs": [
    {
     "data": {
      "text/html": [
       "<div>\n",
       "<style scoped>\n",
       "    .dataframe tbody tr th:only-of-type {\n",
       "        vertical-align: middle;\n",
       "    }\n",
       "\n",
       "    .dataframe tbody tr th {\n",
       "        vertical-align: top;\n",
       "    }\n",
       "\n",
       "    .dataframe thead th {\n",
       "        text-align: right;\n",
       "    }\n",
       "</style>\n",
       "<table border=\"1\" class=\"dataframe\">\n",
       "  <thead>\n",
       "    <tr style=\"text-align: right;\">\n",
       "      <th></th>\n",
       "      <th>high</th>\n",
       "      <th>high lag1</th>\n",
       "    </tr>\n",
       "  </thead>\n",
       "  <tbody>\n",
       "    <tr>\n",
       "      <th>2023-04-21 00:00:00</th>\n",
       "      <td>28360.43</td>\n",
       "      <td>29094.52</td>\n",
       "    </tr>\n",
       "    <tr>\n",
       "      <th>2023-04-22 00:00:00</th>\n",
       "      <td>27882.99</td>\n",
       "      <td>28360.43</td>\n",
       "    </tr>\n",
       "    <tr>\n",
       "      <th>2023-04-23 00:00:00</th>\n",
       "      <td>27822.64</td>\n",
       "      <td>27882.99</td>\n",
       "    </tr>\n",
       "    <tr>\n",
       "      <th>2023-04-24 00:00:00</th>\n",
       "      <td>27989.50</td>\n",
       "      <td>27822.64</td>\n",
       "    </tr>\n",
       "    <tr>\n",
       "      <th>2023-04-25 00:00:00</th>\n",
       "      <td>28396.41</td>\n",
       "      <td>27989.50</td>\n",
       "    </tr>\n",
       "    <tr>\n",
       "      <th>2023-04-26 00:00:00</th>\n",
       "      <td>30017.37</td>\n",
       "      <td>28396.41</td>\n",
       "    </tr>\n",
       "    <tr>\n",
       "      <th>2023-04-27 00:00:00</th>\n",
       "      <td>29891.79</td>\n",
       "      <td>30017.37</td>\n",
       "    </tr>\n",
       "    <tr>\n",
       "      <th>2023-04-28 00:00:00</th>\n",
       "      <td>29604.84</td>\n",
       "      <td>29891.79</td>\n",
       "    </tr>\n",
       "    <tr>\n",
       "      <th>2023-04-29 00:00:00</th>\n",
       "      <td>29463.49</td>\n",
       "      <td>29604.84</td>\n",
       "    </tr>\n",
       "    <tr>\n",
       "      <th>2023-04-30 00:00:00</th>\n",
       "      <td>29963.23</td>\n",
       "      <td>29463.49</td>\n",
       "    </tr>\n",
       "  </tbody>\n",
       "</table>\n",
       "</div>"
      ],
      "text/plain": [
       "                         high  high lag1\n",
       "2023-04-21 00:00:00  28360.43   29094.52\n",
       "2023-04-22 00:00:00  27882.99   28360.43\n",
       "2023-04-23 00:00:00  27822.64   27882.99\n",
       "2023-04-24 00:00:00  27989.50   27822.64\n",
       "2023-04-25 00:00:00  28396.41   27989.50\n",
       "2023-04-26 00:00:00  30017.37   28396.41\n",
       "2023-04-27 00:00:00  29891.79   30017.37\n",
       "2023-04-28 00:00:00  29604.84   29891.79\n",
       "2023-04-29 00:00:00  29463.49   29604.84\n",
       "2023-04-30 00:00:00  29963.23   29463.49"
      ]
     },
     "execution_count": 381,
     "metadata": {},
     "output_type": "execute_result"
    }
   ],
   "source": [
    "coins_lagged = coins.copy ()\n",
    "trailing_window_size = 1\n",
    "for window in range(1, trailing_window_size +1):\n",
    "    shifted = coins.shift(window)\n",
    "    shifted.columns = [x + \" lag\" + str(window) for x in coins. columns]\n",
    "    coins_lagged = pd. concat((coins_lagged, shifted), axis=1)\n",
    "coins_lagged = coins_lagged.dropna()\n",
    "coins_lagged"
   ]
  },
  {
   "cell_type": "code",
   "execution_count": 382,
   "id": "82107740",
   "metadata": {},
   "outputs": [],
   "source": [
    "coins_lagged.to_csv('crypto_prices_data.csv', index_label='time')"
   ]
  },
  {
   "cell_type": "code",
   "execution_count": 383,
   "id": "de856724",
   "metadata": {},
   "outputs": [],
   "source": [
    "\n",
    "df = pd.read_csv('crypto_prices_data.csv', index_col='time')"
   ]
  },
  {
   "cell_type": "code",
   "execution_count": 384,
   "id": "38f0c324",
   "metadata": {},
   "outputs": [],
   "source": [
    "#Making sure the index is Pandas datetime \n",
    "#Using normalize to mke it daily analysis\n",
    "df.index = pd.to_datetime(df.index)\n",
    "df.index = df.index.normalize ()"
   ]
  },
  {
   "cell_type": "code",
   "execution_count": 385,
   "id": "998c5e6b",
   "metadata": {},
   "outputs": [],
   "source": [
    "#Importing the sklearn standard scalar Library \n",
    "from sklearn.preprocessing import StandardScaler \n"
   ]
  },
  {
   "cell_type": "code",
   "execution_count": 386,
   "id": "bc9c00ac",
   "metadata": {},
   "outputs": [],
   "source": [
    "#Scaling data\n",
    "sc_x = StandardScaler ()\n",
    "df_scaled = pd.DataFrame (sc_x.fit_transform(df), index=df.index, columns=df.columns)"
   ]
  },
  {
   "cell_type": "code",
   "execution_count": 387,
   "id": "94111633",
   "metadata": {},
   "outputs": [],
   "source": [
    "split = int(int(lim)/2)\n",
    "Ytrain = pd.DataFrame(data_scaled[:split][\"BTC\"])\n",
    "Ytest = pd.DataFrame(data_scaled[split:][\"BTC\"])"
   ]
  },
  {
   "cell_type": "code",
   "execution_count": 388,
   "id": "1915ec54",
   "metadata": {},
   "outputs": [],
   "source": [
    "x = data_scaled[[\"BTC_lag_1\", \"BTC_lag_2\", \"Trans_Vol\", \"Difficulty\", \"Hash_Rate\", \n",
    "                 \"BTC/USD\", \"CPI\", \"No_Trans\", \"Cost/Trans\", \"ETH/BTC\", \"ETH/USD\"]]"
   ]
  },
  {
   "cell_type": "code",
   "execution_count": 389,
   "id": "5a2ec628",
   "metadata": {},
   "outputs": [
    {
     "data": {
      "text/html": [
       "<style>#sk-container-id-18 {color: black;background-color: white;}#sk-container-id-18 pre{padding: 0;}#sk-container-id-18 div.sk-toggleable {background-color: white;}#sk-container-id-18 label.sk-toggleable__label {cursor: pointer;display: block;width: 100%;margin-bottom: 0;padding: 0.3em;box-sizing: border-box;text-align: center;}#sk-container-id-18 label.sk-toggleable__label-arrow:before {content: \"▸\";float: left;margin-right: 0.25em;color: #696969;}#sk-container-id-18 label.sk-toggleable__label-arrow:hover:before {color: black;}#sk-container-id-18 div.sk-estimator:hover label.sk-toggleable__label-arrow:before {color: black;}#sk-container-id-18 div.sk-toggleable__content {max-height: 0;max-width: 0;overflow: hidden;text-align: left;background-color: #f0f8ff;}#sk-container-id-18 div.sk-toggleable__content pre {margin: 0.2em;color: black;border-radius: 0.25em;background-color: #f0f8ff;}#sk-container-id-18 input.sk-toggleable__control:checked~div.sk-toggleable__content {max-height: 200px;max-width: 100%;overflow: auto;}#sk-container-id-18 input.sk-toggleable__control:checked~label.sk-toggleable__label-arrow:before {content: \"▾\";}#sk-container-id-18 div.sk-estimator input.sk-toggleable__control:checked~label.sk-toggleable__label {background-color: #d4ebff;}#sk-container-id-18 div.sk-label input.sk-toggleable__control:checked~label.sk-toggleable__label {background-color: #d4ebff;}#sk-container-id-18 input.sk-hidden--visually {border: 0;clip: rect(1px 1px 1px 1px);clip: rect(1px, 1px, 1px, 1px);height: 1px;margin: -1px;overflow: hidden;padding: 0;position: absolute;width: 1px;}#sk-container-id-18 div.sk-estimator {font-family: monospace;background-color: #f0f8ff;border: 1px dotted black;border-radius: 0.25em;box-sizing: border-box;margin-bottom: 0.5em;}#sk-container-id-18 div.sk-estimator:hover {background-color: #d4ebff;}#sk-container-id-18 div.sk-parallel-item::after {content: \"\";width: 100%;border-bottom: 1px solid gray;flex-grow: 1;}#sk-container-id-18 div.sk-label:hover label.sk-toggleable__label {background-color: #d4ebff;}#sk-container-id-18 div.sk-serial::before {content: \"\";position: absolute;border-left: 1px solid gray;box-sizing: border-box;top: 0;bottom: 0;left: 50%;z-index: 0;}#sk-container-id-18 div.sk-serial {display: flex;flex-direction: column;align-items: center;background-color: white;padding-right: 0.2em;padding-left: 0.2em;position: relative;}#sk-container-id-18 div.sk-item {position: relative;z-index: 1;}#sk-container-id-18 div.sk-parallel {display: flex;align-items: stretch;justify-content: center;background-color: white;position: relative;}#sk-container-id-18 div.sk-item::before, #sk-container-id-18 div.sk-parallel-item::before {content: \"\";position: absolute;border-left: 1px solid gray;box-sizing: border-box;top: 0;bottom: 0;left: 50%;z-index: -1;}#sk-container-id-18 div.sk-parallel-item {display: flex;flex-direction: column;z-index: 1;position: relative;background-color: white;}#sk-container-id-18 div.sk-parallel-item:first-child::after {align-self: flex-end;width: 50%;}#sk-container-id-18 div.sk-parallel-item:last-child::after {align-self: flex-start;width: 50%;}#sk-container-id-18 div.sk-parallel-item:only-child::after {width: 0;}#sk-container-id-18 div.sk-dashed-wrapped {border: 1px dashed gray;margin: 0 0.4em 0.5em 0.4em;box-sizing: border-box;padding-bottom: 0.4em;background-color: white;}#sk-container-id-18 div.sk-label label {font-family: monospace;font-weight: bold;display: inline-block;line-height: 1.2em;}#sk-container-id-18 div.sk-label-container {text-align: center;}#sk-container-id-18 div.sk-container {/* jupyter's `normalize.less` sets `[hidden] { display: none; }` but bootstrap.min.css set `[hidden] { display: none !important; }` so we also need the `!important` here to be able to override the default hidden behavior on the sphinx rendered scikit-learn.org. See: https://github.com/scikit-learn/scikit-learn/issues/21755 */display: inline-block !important;position: relative;}#sk-container-id-18 div.sk-text-repr-fallback {display: none;}</style><div id=\"sk-container-id-18\" class=\"sk-top-container\"><div class=\"sk-text-repr-fallback\"><pre>ElasticNet(alpha=0.1)</pre><b>In a Jupyter environment, please rerun this cell to show the HTML representation or trust the notebook. <br />On GitHub, the HTML representation is unable to render, please try loading this page with nbviewer.org.</b></div><div class=\"sk-container\" hidden><div class=\"sk-item\"><div class=\"sk-estimator sk-toggleable\"><input class=\"sk-toggleable__control sk-hidden--visually\" id=\"sk-estimator-id-18\" type=\"checkbox\" checked><label for=\"sk-estimator-id-18\" class=\"sk-toggleable__label sk-toggleable__label-arrow\">ElasticNet</label><div class=\"sk-toggleable__content\"><pre>ElasticNet(alpha=0.1)</pre></div></div></div></div></div>"
      ],
      "text/plain": [
       "ElasticNet(alpha=0.1)"
      ]
     },
     "execution_count": 389,
     "metadata": {},
     "output_type": "execute_result"
    }
   ],
   "source": [
    "#Applying regularisation with elasticnet\n",
    "from sklearn.linear_model import ElasticNet\n",
    "\n",
    "en = ElasticNet(alpha=0.1, l1_ratio=0.5)\n",
    "en.fit(x[:split], Ytrain)"
   ]
  },
  {
   "cell_type": "code",
   "execution_count": 390,
   "id": "f37f28fa",
   "metadata": {},
   "outputs": [
    {
     "name": "stdout",
     "output_type": "stream",
     "text": [
      "BTC_lag_1 : 0.0\n",
      "BTC_lag_2 : 0.0\n",
      "Trans_Vol : 0.004276875802850161\n",
      "Difficulty : -0.0\n",
      "Hash_Rate : -0.0\n",
      "BTC/USD : 0.0\n",
      "CPI : 0.0\n",
      "No_Trans : 0.0\n",
      "Cost/Trans : 0.0\n",
      "ETH/BTC : -0.0\n",
      "ETH/USD : 0.0\n"
     ]
    }
   ],
   "source": [
    "coef = list(en.coef_)\n",
    "count = 0\n",
    "for i in X.columns:\n",
    "    print(i, ':' , coef [count]) \n",
    "    count = count + 1"
   ]
  },
  {
   "cell_type": "code",
   "execution_count": 391,
   "id": "b0174fec",
   "metadata": {},
   "outputs": [],
   "source": [
    "sample_size = len(df_scaled)\n",
    "\n",
    "# Splitting data in two parts. \n",
    "split = int(int(sample_size)/2)"
   ]
  },
  {
   "cell_type": "code",
   "execution_count": 392,
   "id": "dbc50fda",
   "metadata": {},
   "outputs": [],
   "source": [
    "# Setting the y variable of interest to forecast BTC and splitting it into training and test sets\n",
    "Ytrain = pd.DataFrame(data_scaled[:split][\"BTC\"])\n",
    "Ytest = pd.DataFrame(data_scaled[split:][\"BTC\"])"
   ]
  },
  {
   "cell_type": "code",
   "execution_count": 393,
   "id": "30fc62c4",
   "metadata": {},
   "outputs": [
    {
     "data": {
      "text/html": [
       "<style>#sk-container-id-19 {color: black;background-color: white;}#sk-container-id-19 pre{padding: 0;}#sk-container-id-19 div.sk-toggleable {background-color: white;}#sk-container-id-19 label.sk-toggleable__label {cursor: pointer;display: block;width: 100%;margin-bottom: 0;padding: 0.3em;box-sizing: border-box;text-align: center;}#sk-container-id-19 label.sk-toggleable__label-arrow:before {content: \"▸\";float: left;margin-right: 0.25em;color: #696969;}#sk-container-id-19 label.sk-toggleable__label-arrow:hover:before {color: black;}#sk-container-id-19 div.sk-estimator:hover label.sk-toggleable__label-arrow:before {color: black;}#sk-container-id-19 div.sk-toggleable__content {max-height: 0;max-width: 0;overflow: hidden;text-align: left;background-color: #f0f8ff;}#sk-container-id-19 div.sk-toggleable__content pre {margin: 0.2em;color: black;border-radius: 0.25em;background-color: #f0f8ff;}#sk-container-id-19 input.sk-toggleable__control:checked~div.sk-toggleable__content {max-height: 200px;max-width: 100%;overflow: auto;}#sk-container-id-19 input.sk-toggleable__control:checked~label.sk-toggleable__label-arrow:before {content: \"▾\";}#sk-container-id-19 div.sk-estimator input.sk-toggleable__control:checked~label.sk-toggleable__label {background-color: #d4ebff;}#sk-container-id-19 div.sk-label input.sk-toggleable__control:checked~label.sk-toggleable__label {background-color: #d4ebff;}#sk-container-id-19 input.sk-hidden--visually {border: 0;clip: rect(1px 1px 1px 1px);clip: rect(1px, 1px, 1px, 1px);height: 1px;margin: -1px;overflow: hidden;padding: 0;position: absolute;width: 1px;}#sk-container-id-19 div.sk-estimator {font-family: monospace;background-color: #f0f8ff;border: 1px dotted black;border-radius: 0.25em;box-sizing: border-box;margin-bottom: 0.5em;}#sk-container-id-19 div.sk-estimator:hover {background-color: #d4ebff;}#sk-container-id-19 div.sk-parallel-item::after {content: \"\";width: 100%;border-bottom: 1px solid gray;flex-grow: 1;}#sk-container-id-19 div.sk-label:hover label.sk-toggleable__label {background-color: #d4ebff;}#sk-container-id-19 div.sk-serial::before {content: \"\";position: absolute;border-left: 1px solid gray;box-sizing: border-box;top: 0;bottom: 0;left: 50%;z-index: 0;}#sk-container-id-19 div.sk-serial {display: flex;flex-direction: column;align-items: center;background-color: white;padding-right: 0.2em;padding-left: 0.2em;position: relative;}#sk-container-id-19 div.sk-item {position: relative;z-index: 1;}#sk-container-id-19 div.sk-parallel {display: flex;align-items: stretch;justify-content: center;background-color: white;position: relative;}#sk-container-id-19 div.sk-item::before, #sk-container-id-19 div.sk-parallel-item::before {content: \"\";position: absolute;border-left: 1px solid gray;box-sizing: border-box;top: 0;bottom: 0;left: 50%;z-index: -1;}#sk-container-id-19 div.sk-parallel-item {display: flex;flex-direction: column;z-index: 1;position: relative;background-color: white;}#sk-container-id-19 div.sk-parallel-item:first-child::after {align-self: flex-end;width: 50%;}#sk-container-id-19 div.sk-parallel-item:last-child::after {align-self: flex-start;width: 50%;}#sk-container-id-19 div.sk-parallel-item:only-child::after {width: 0;}#sk-container-id-19 div.sk-dashed-wrapped {border: 1px dashed gray;margin: 0 0.4em 0.5em 0.4em;box-sizing: border-box;padding-bottom: 0.4em;background-color: white;}#sk-container-id-19 div.sk-label label {font-family: monospace;font-weight: bold;display: inline-block;line-height: 1.2em;}#sk-container-id-19 div.sk-label-container {text-align: center;}#sk-container-id-19 div.sk-container {/* jupyter's `normalize.less` sets `[hidden] { display: none; }` but bootstrap.min.css set `[hidden] { display: none !important; }` so we also need the `!important` here to be able to override the default hidden behavior on the sphinx rendered scikit-learn.org. See: https://github.com/scikit-learn/scikit-learn/issues/21755 */display: inline-block !important;position: relative;}#sk-container-id-19 div.sk-text-repr-fallback {display: none;}</style><div id=\"sk-container-id-19\" class=\"sk-top-container\"><div class=\"sk-text-repr-fallback\"><pre>ElasticNet(alpha=0.1)</pre><b>In a Jupyter environment, please rerun this cell to show the HTML representation or trust the notebook. <br />On GitHub, the HTML representation is unable to render, please try loading this page with nbviewer.org.</b></div><div class=\"sk-container\" hidden><div class=\"sk-item\"><div class=\"sk-estimator sk-toggleable\"><input class=\"sk-toggleable__control sk-hidden--visually\" id=\"sk-estimator-id-19\" type=\"checkbox\" checked><label for=\"sk-estimator-id-19\" class=\"sk-toggleable__label sk-toggleable__label-arrow\">ElasticNet</label><div class=\"sk-toggleable__content\"><pre>ElasticNet(alpha=0.1)</pre></div></div></div></div></div>"
      ],
      "text/plain": [
       "ElasticNet(alpha=0.1)"
      ]
     },
     "execution_count": 393,
     "metadata": {},
     "output_type": "execute_result"
    }
   ],
   "source": [
    "x=data_scaled[[\"BTC_lag_1\", \"BTC_lag_2\", \"Trans_Vol\", \"Difficulty\", \"Hash_Rate\", \n",
    "                 \"BTC/USD\", \"CPI\", \"No_Trans\", \"Cost/Trans\", \"ETH/BTC\", \"ETH/USD\"]]\n",
    "\n",
    "\n",
    "en = ElasticNet(alpha=0.1, l1_ratio=0.5)\n",
    "en.fit(x[:split], Ytrain)"
   ]
  },
  {
   "cell_type": "code",
   "execution_count": 394,
   "id": "e545bae0",
   "metadata": {},
   "outputs": [
    {
     "name": "stdout",
     "output_type": "stream",
     "text": [
      "BTC_lag_1 : 0.0\n",
      "BTC_lag_2 : 0.0\n",
      "Trans_Vol : 0.0\n",
      "Difficulty : 0.0\n",
      "Hash_Rate : 0.0\n",
      "BTC/USD : 0.0\n",
      "CPI : 0.0\n",
      "No_Trans : 0.028783204918196262\n",
      "Cost/Trans : 0.0\n",
      "ETH/BTC : -0.0\n",
      "ETH/USD : 0.0\n"
     ]
    }
   ],
   "source": [
    "# Converting the en.coef to a list \n",
    "coef = list(en.coef_)\n",
    "count = 0\n",
    "for i in X.columns:\n",
    "    print(i, \":\", coef[count])\n",
    "    count = count + 1"
   ]
  },
  {
   "cell_type": "code",
   "execution_count": 395,
   "id": "93afc17d",
   "metadata": {},
   "outputs": [
    {
     "data": {
      "text/html": [
       "<style>#sk-container-id-20 {color: black;background-color: white;}#sk-container-id-20 pre{padding: 0;}#sk-container-id-20 div.sk-toggleable {background-color: white;}#sk-container-id-20 label.sk-toggleable__label {cursor: pointer;display: block;width: 100%;margin-bottom: 0;padding: 0.3em;box-sizing: border-box;text-align: center;}#sk-container-id-20 label.sk-toggleable__label-arrow:before {content: \"▸\";float: left;margin-right: 0.25em;color: #696969;}#sk-container-id-20 label.sk-toggleable__label-arrow:hover:before {color: black;}#sk-container-id-20 div.sk-estimator:hover label.sk-toggleable__label-arrow:before {color: black;}#sk-container-id-20 div.sk-toggleable__content {max-height: 0;max-width: 0;overflow: hidden;text-align: left;background-color: #f0f8ff;}#sk-container-id-20 div.sk-toggleable__content pre {margin: 0.2em;color: black;border-radius: 0.25em;background-color: #f0f8ff;}#sk-container-id-20 input.sk-toggleable__control:checked~div.sk-toggleable__content {max-height: 200px;max-width: 100%;overflow: auto;}#sk-container-id-20 input.sk-toggleable__control:checked~label.sk-toggleable__label-arrow:before {content: \"▾\";}#sk-container-id-20 div.sk-estimator input.sk-toggleable__control:checked~label.sk-toggleable__label {background-color: #d4ebff;}#sk-container-id-20 div.sk-label input.sk-toggleable__control:checked~label.sk-toggleable__label {background-color: #d4ebff;}#sk-container-id-20 input.sk-hidden--visually {border: 0;clip: rect(1px 1px 1px 1px);clip: rect(1px, 1px, 1px, 1px);height: 1px;margin: -1px;overflow: hidden;padding: 0;position: absolute;width: 1px;}#sk-container-id-20 div.sk-estimator {font-family: monospace;background-color: #f0f8ff;border: 1px dotted black;border-radius: 0.25em;box-sizing: border-box;margin-bottom: 0.5em;}#sk-container-id-20 div.sk-estimator:hover {background-color: #d4ebff;}#sk-container-id-20 div.sk-parallel-item::after {content: \"\";width: 100%;border-bottom: 1px solid gray;flex-grow: 1;}#sk-container-id-20 div.sk-label:hover label.sk-toggleable__label {background-color: #d4ebff;}#sk-container-id-20 div.sk-serial::before {content: \"\";position: absolute;border-left: 1px solid gray;box-sizing: border-box;top: 0;bottom: 0;left: 50%;z-index: 0;}#sk-container-id-20 div.sk-serial {display: flex;flex-direction: column;align-items: center;background-color: white;padding-right: 0.2em;padding-left: 0.2em;position: relative;}#sk-container-id-20 div.sk-item {position: relative;z-index: 1;}#sk-container-id-20 div.sk-parallel {display: flex;align-items: stretch;justify-content: center;background-color: white;position: relative;}#sk-container-id-20 div.sk-item::before, #sk-container-id-20 div.sk-parallel-item::before {content: \"\";position: absolute;border-left: 1px solid gray;box-sizing: border-box;top: 0;bottom: 0;left: 50%;z-index: -1;}#sk-container-id-20 div.sk-parallel-item {display: flex;flex-direction: column;z-index: 1;position: relative;background-color: white;}#sk-container-id-20 div.sk-parallel-item:first-child::after {align-self: flex-end;width: 50%;}#sk-container-id-20 div.sk-parallel-item:last-child::after {align-self: flex-start;width: 50%;}#sk-container-id-20 div.sk-parallel-item:only-child::after {width: 0;}#sk-container-id-20 div.sk-dashed-wrapped {border: 1px dashed gray;margin: 0 0.4em 0.5em 0.4em;box-sizing: border-box;padding-bottom: 0.4em;background-color: white;}#sk-container-id-20 div.sk-label label {font-family: monospace;font-weight: bold;display: inline-block;line-height: 1.2em;}#sk-container-id-20 div.sk-label-container {text-align: center;}#sk-container-id-20 div.sk-container {/* jupyter's `normalize.less` sets `[hidden] { display: none; }` but bootstrap.min.css set `[hidden] { display: none !important; }` so we also need the `!important` here to be able to override the default hidden behavior on the sphinx rendered scikit-learn.org. See: https://github.com/scikit-learn/scikit-learn/issues/21755 */display: inline-block !important;position: relative;}#sk-container-id-20 div.sk-text-repr-fallback {display: none;}</style><div id=\"sk-container-id-20\" class=\"sk-top-container\"><div class=\"sk-text-repr-fallback\"><pre>ElasticNet(alpha=0.1)</pre><b>In a Jupyter environment, please rerun this cell to show the HTML representation or trust the notebook. <br />On GitHub, the HTML representation is unable to render, please try loading this page with nbviewer.org.</b></div><div class=\"sk-container\" hidden><div class=\"sk-item\"><div class=\"sk-estimator sk-toggleable\"><input class=\"sk-toggleable__control sk-hidden--visually\" id=\"sk-estimator-id-20\" type=\"checkbox\" checked><label for=\"sk-estimator-id-20\" class=\"sk-toggleable__label sk-toggleable__label-arrow\">ElasticNet</label><div class=\"sk-toggleable__content\"><pre>ElasticNet(alpha=0.1)</pre></div></div></div></div></div>"
      ],
      "text/plain": [
       "ElasticNet(alpha=0.1)"
      ]
     },
     "execution_count": 395,
     "metadata": {},
     "output_type": "execute_result"
    }
   ],
   "source": [
    "#Applying regularisation with elasticnet\n",
    "from sklearn.linear_model import ElasticNet\n",
    "\n",
    "en = ElasticNet(alpha=0.1, l1_ratio=0.5)\n",
    "en.fit(Xtrain, Ytrain)"
   ]
  },
  {
   "cell_type": "code",
   "execution_count": 396,
   "id": "3da86dd3",
   "metadata": {},
   "outputs": [
    {
     "name": "stdout",
     "output_type": "stream",
     "text": [
      "BTC_lag_1 : 0.0\n",
      "BTC_lag_2 : 0.0\n",
      "Trans_Vol : 0.0\n",
      "Difficulty : 0.0\n",
      "Hash_Rate : 0.0\n",
      "BTC/USD : 0.0\n",
      "CPI : 0.0\n",
      "No_Trans : 0.028783204918196262\n",
      "Cost/Trans : 0.0\n",
      "ETH/BTC : -0.0\n",
      "ETH/USD : 0.0\n"
     ]
    }
   ],
   "source": [
    "coef = list(en.coef_)\n",
    "\n",
    "count = 0\n",
    "for i in X.columns:\n",
    "    print(i, \":\", coef[count])\n",
    "    count = count + 1"
   ]
  },
  {
   "cell_type": "code",
   "execution_count": 397,
   "id": "bea4b231",
   "metadata": {},
   "outputs": [
    {
     "name": "stdout",
     "output_type": "stream",
     "text": [
      "Predicted y values: [-0.31811861 -0.34687958 -0.33876638 -0.33714544 -0.33507842 -0.34860043\n",
      " -0.33338856 -0.32936681 -0.35689175 -0.38522678 -0.35274454 -0.34401874\n",
      " -0.35197551 -0.37060505 -0.34258445 -0.35941028 -0.39909187 -0.35639533\n",
      " -0.33483989 -0.34520366 -0.34396995 -0.33166384 -0.35390855 -0.37060582\n",
      " -0.37826519 -0.31345251 -0.32903921 -0.31094559 -0.31655808 -0.33720121\n",
      " -0.37400491 -0.33616576 -0.31687096 -0.33187914 -0.35977428 -0.32990583\n",
      " -0.33508074 -0.36479663 -0.35686465 -0.36624176 -0.34976288 -0.35031585\n",
      " -0.33123789 -0.34758744 -0.38540413 -0.37476465 -0.37282774 -0.31845472\n",
      " -0.34321873 -0.35847552 -0.34734813 -0.39882468 -0.37855794 -0.33389892\n",
      " -0.33757604 -0.37147476 -0.3496746  -0.37276656 -0.36967493 -0.3636907\n",
      " -0.32883553 -0.37022479 -0.34737911 -0.38120116 -0.35721005 -0.36946118\n",
      " -0.34834795 -0.36645009 -0.33888023 -0.35091373 -0.37355263 -0.41383364\n",
      " -0.36545027 -0.35242082 -0.35950012 -0.34906897 -0.3683932  -0.37253732\n",
      " -0.4032476  -0.36088485 -0.34711115 -0.33808176 -0.35419819 -0.35896187\n",
      " -0.37760381 -0.40525964 -0.37192782 -0.35603675 -0.3469338  -0.3800689\n",
      " -0.34429987 -0.36415228 -0.39949614 -0.37012876 -0.35553491 -0.36538521\n",
      " -0.31741075 -0.42563016 -0.44508759 -0.38301106 -0.43437454 -0.37895136\n",
      " -0.42073792 -0.38310787 -0.36675058 -0.37065461 -0.40910559 -0.40937974\n",
      " -0.36490892 -0.38115934 -0.39483701 -0.37166218 -0.39210627 -0.41361834\n",
      " -0.37350694 -0.36280628 -0.35587489 -0.35463112 -0.35725807 -0.38304514\n",
      " -0.40381992 -0.36089105 -0.35406189 -0.36309437 -0.38166583 -0.38973334\n",
      " -0.41603077 -0.42583849 -0.40146248 -0.42461252 -0.39177481 -0.41917507\n",
      " -0.42048235 -0.42245799 -0.44528895 -0.41397382 -0.41483424 -0.41707319\n",
      " -0.43002055 -0.42670898 -0.44218184 -0.45653793 -0.42039096 -0.41412406\n",
      " -0.40171108 -0.39781402 -0.41248919 -0.44508759 -0.45227068 -0.41341311\n",
      " -0.4045634  -0.43243995 -0.39985703 -0.42810997 -0.42325258 -0.45088208\n",
      " -0.40804071 -0.40847053 -0.39989266 -0.41167368 -0.42314106 -0.45092545\n",
      " -0.46625426 -0.43697904 -0.44358283 -0.41556223 -0.41511769 -0.42676009\n",
      " -0.45511835 -0.49925306 -0.42702883 -0.4365407  -0.42638138 -0.41746042\n",
      " -0.44974362 -0.41187659 -0.46269098 -0.42248896 -0.4189892  -0.42445066\n",
      " -0.41709952 -0.41958398 -0.45075429 -0.46711003 -0.42519259 -0.41772141\n",
      " -0.41284156 -0.42057296 -0.42271665 -0.45479385 -0.47099935 -0.42013229\n",
      " -0.41726216 -0.41325745 -0.41743796 -0.41678122 -0.44236848 -0.46061157\n",
      " -0.39291248 -0.3981238  -0.40122007 -0.39239979 -0.39797201 -0.43519934\n",
      " -0.45238529 -0.41047173 -0.40511172 -0.41022468 -0.40512953 -0.39379536\n",
      " -0.43141922 -0.44737766 -0.40010718 -0.393673   -0.39253532 -0.40142298\n",
      " -0.39393941 -0.43386263 -0.45154733 -0.39168962 -0.39615281 -0.40423271\n",
      " -0.39949768 -0.38525544 -0.42586017 -0.44814592 -0.38610811 -0.39133724\n",
      " -0.39209233 -0.39551466 -0.39689086 -0.42674228 -0.44735675 -0.40142763\n",
      " -0.38577742 -0.37826365 -0.37126643 -0.3758427  -0.41941282 -0.43696665\n",
      " -0.38754783 -0.38154811 -0.38630405 -0.3832829  -0.39336089 -0.4266052\n",
      " -0.44655054 -0.39754373 -0.38812867 -0.38748587 -0.38573095 -0.38587268\n",
      " -0.41946781 -0.44049042 -0.38649766 -0.40637408 -0.38262383 -0.38769342\n",
      " -0.38081935 -0.43115126 -0.44432863 -0.39761885 -0.39264762 -0.40836985\n",
      " -0.36880831 -0.38122439 -0.39445288 -0.42686309 -0.38748742 -0.3537343\n",
      " -0.38842141 -0.34340537 -0.37891187 -0.40511869 -0.43197915 -0.37879105\n",
      " -0.38346025 -0.3720285  -0.37708802 -0.36519005 -0.38663784 -0.42858936\n",
      " -0.37477627 -0.35413701 -0.3697849  -0.34737988 -0.37308641 -0.42234879\n",
      " -0.43220064 -0.3753091  -0.3680687  -0.36955179 -0.36688456 -0.35900447\n",
      " -0.40057108 -0.4273874  -0.36864722 -0.36545646 -0.37216016 -0.37185425\n",
      " -0.37432863 -0.41282917 -0.42065505 -0.37443706 -0.33602016 -0.36265061\n",
      " -0.36835061 -0.37734669 -0.4109697  -0.4222907  -0.37240101 -0.3625902\n",
      " -0.37088695 -0.36819417 -0.37527889 -0.40243675 -0.42311705 -0.37958022\n",
      " -0.37629962 -0.36428936 -0.37312823 -0.36914055 -0.40932398 -0.43022733\n",
      " -0.36243996 -0.3681872  -0.37241108 -0.35317436 -0.37108134 -0.39932188\n",
      " -0.42910824 -0.37547405 -0.37247226 -0.38969075 -0.37678443 -0.38561323\n",
      " -0.42096096 -0.4294219  -0.38031905 -0.38026949 -0.37807932 -0.39736096\n",
      " -0.39171595 -0.41055459 -0.43568647 -0.38904253 -0.35979442 -0.37235455\n",
      " -0.36979574 -0.39398511 -0.43484696 -0.44199442 -0.40251729 -0.39022357\n",
      " -0.38196709 -0.40602325 -0.38703436 -0.45108653 -0.44331796 -0.41394439\n",
      " -0.38315898 -0.38500916 -0.39062861 -0.39799989 -0.42236505 -0.43303473\n",
      " -0.38920052 -0.38071635 -0.38518109 -0.38318144 -0.38599504 -0.41426966\n",
      " -0.4283818  -0.39586239 -0.39050625 -0.38641944 -0.38569842 -0.38485969\n",
      " -0.40193954 -0.43780306 -0.3861267  -0.39045126 -0.39359401 -0.39757858\n",
      " -0.3908532  -0.41685247 -0.43533487 -0.39178178 -0.38436713 -0.37971962\n",
      " -0.39028398 -0.40375797 -0.39547129 -0.42602358 -0.39284743 -0.38137309\n",
      " -0.38992773 -0.39379304 -0.39551078 -0.4190589  -0.43393775 -0.40403213\n",
      " -0.38387226 -0.38916566 -0.39785119 -0.39360562 -0.42487971 -0.44047571\n",
      " -0.41192383 -0.39421744 -0.4011798  -0.39896176 -0.39415936 -0.42507332\n",
      " -0.43224401 -0.38596716 -0.37844254 -0.37222908 -0.38803806 -0.39279554\n",
      " -0.42128004 -0.43537901 -0.39795342 -0.39769785 -0.38450576 -0.39321994\n",
      " -0.40032171 -0.42141402 -0.43462314 -0.39473865 -0.39196145 -0.38172934\n",
      " -0.3798629  -0.39340194 -0.40803451 -0.43272185 -0.39449083 -0.39088418\n",
      " -0.3911839  -0.39210937 -0.37063215 -0.41685789 -0.42679339 -0.36863019\n",
      " -0.37355882 -0.38446007 -0.37954537 -0.37575441 -0.3987271  -0.42109185\n",
      " -0.38272374 -0.38402173 -0.38385909 -0.38713969 -0.3891525  -0.41549408\n",
      " -0.42815334 -0.38154889 -0.37983269 -0.3812817  -0.39013451 -0.39842584\n",
      " -0.42115225 -0.43521793 -0.40493901 -0.38422463 -0.374554   -0.37704543\n",
      " -0.39370243 -0.41380111 -0.4238582  -0.38093397 -0.38412473 -0.37343104\n",
      " -0.38221337 -0.37385079 -0.39316031 -0.41585807 -0.38496966 -0.38056378\n",
      " -0.41529814 -0.35123977 -0.37359987 -0.41639942 -0.41464217 -0.37931226\n",
      " -0.37919841 -0.39234481 -0.3834223  -0.38677105 -0.37101474 -0.41344874\n",
      " -0.38502542 -0.38009833 -0.39217133 -0.3925028  -0.38897515 -0.42135439\n",
      " -0.43388354 -0.3904683  -0.4131134  -0.37208581 -0.39258954 -0.38632728\n",
      " -0.42013926 -0.43480359 -0.38526938 -0.38181995 -0.38500141 -0.39062706\n",
      " -0.38860109 -0.4264627  -0.4398515  -0.38751375 -0.39160288 -0.39318587\n",
      " -0.39279244 -0.39298528 -0.41765481 -0.42890688 -0.38473965 -0.37643128\n",
      " -0.36630062 -0.40119684 -0.40094824 -0.40380134 -0.44106275 -0.41251707\n",
      " -0.3987302  -0.39792941 -0.39812999 -0.3987999  -0.42693667 -0.43565859\n",
      " -0.39528774 -0.40365419 -0.39048921 -0.3857387  -0.38522678 -0.41370973\n",
      " -0.43598541 -0.40961363 -0.40539749 -0.38891009 -0.37782221 -0.38797068\n",
      " -0.4248526  -0.44137872 -0.41805753 -0.38251309 -0.42334319 -0.37359445\n",
      " -0.38724424 -0.42026008 -0.43921954 -0.40379746 -0.37897227 -0.39427165\n",
      " -0.38359887 -0.39188555 -0.42250136 -0.44095277 -0.39952092 -0.39065804\n",
      " -0.39757471 -0.37331565 -0.37768822 -0.41556842 -0.43388741 -0.40246927\n",
      " -0.38902626 -0.37735598 -0.37916047 -0.38786845 -0.41171086 -0.44386318\n",
      " -0.39706976 -0.39734005 -0.39088651 -0.37323665 -0.38384283 -0.41509446\n",
      " -0.4367467  -0.408414   -0.38366083 -0.39742214 -0.36970126 -0.37900325\n",
      " -0.42329285 -0.43668087 -0.40175368 -0.3968018  -0.39705118 -0.39406642\n",
      " -0.3923146  -0.42120337 -0.43925671 -0.40043633 -0.39252913 -0.39409353\n",
      " -0.38820999 -0.38622273 -0.40790053 -0.43737556 -0.40202861 -0.38813022\n",
      " -0.3903653  -0.39220541 -0.37053148 -0.40841245 -0.42512134 -0.38747503\n",
      " -0.39433903 -0.3864388  -0.38122517 -0.39336864 -0.40382225 -0.43128988\n",
      " -0.39922817 -0.38685391 -0.39370708 -0.4054246  -0.3778346  -0.41917429\n",
      " -0.4315896  -0.39495627 -0.38581304 -0.39128767 -0.38873662 -0.37376638\n",
      " -0.40836831 -0.43032181 -0.38371969 -0.37990627 -0.38898522 -0.38032447\n",
      " -0.38653019 -0.4133984  -0.4321867  -0.39575009 -0.38942666 -0.39349642\n",
      " -0.37808707 -0.37533388 -0.4085503  -0.43088484 -0.3940579  -0.39620857\n",
      " -0.39169891 -0.39133569 -0.38610424 -0.41525787 -0.42704896 -0.39094846\n",
      " -0.40329794 -0.35874425 -0.3882309  -0.37658308 -0.40010641 -0.42374513\n",
      " -0.37573892 -0.38188268 -0.39638437 -0.36573759 -0.37776025 -0.3965927\n",
      " -0.42276467 -0.39065185 -0.36671418 -0.36943485 -0.3689965  -0.37547405\n",
      " -0.41048954 -0.41948098 -0.40804071 -0.37654048 -0.38793815 -0.40335602\n",
      " -0.37731416 -0.3938852  -0.41771599 -0.38607481 -0.39966187 -0.38358261\n",
      " -0.39857453 -0.3957075  -0.41786159 -0.42333157 -0.39238121 -0.38550713\n",
      " -0.38558148 -0.3746996  -0.38534217 -0.40143073 -0.42554807 -0.38353072\n",
      " -0.39253455 -0.38487518 -0.39145031 -0.39003306 -0.40862    -0.42711402\n",
      " -0.39237346 -0.37333888 -0.38168984 -0.38147919 -0.39893311 -0.39194441\n",
      " -0.43107536 -0.39512278 -0.38753543 -0.38474894 -0.38576348 -0.3836376\n",
      " -0.43055957 -0.43677458 -0.42268722 -0.41040822 -0.38439424 -0.38981079\n",
      " -0.37040292 -0.40811119]\n"
     ]
    },
    {
     "data": {
      "text/html": [
       "<div>\n",
       "<style scoped>\n",
       "    .dataframe tbody tr th:only-of-type {\n",
       "        vertical-align: middle;\n",
       "    }\n",
       "\n",
       "    .dataframe tbody tr th {\n",
       "        vertical-align: top;\n",
       "    }\n",
       "\n",
       "    .dataframe thead th {\n",
       "        text-align: right;\n",
       "    }\n",
       "</style>\n",
       "<table border=\"1\" class=\"dataframe\">\n",
       "  <thead>\n",
       "    <tr style=\"text-align: right;\">\n",
       "      <th></th>\n",
       "      <th>BTC</th>\n",
       "    </tr>\n",
       "    <tr>\n",
       "      <th>Date</th>\n",
       "      <th></th>\n",
       "    </tr>\n",
       "  </thead>\n",
       "  <tbody>\n",
       "    <tr>\n",
       "      <th>2021-01-08</th>\n",
       "      <td>0.119085</td>\n",
       "    </tr>\n",
       "    <tr>\n",
       "      <th>2021-01-09</th>\n",
       "      <td>0.204536</td>\n",
       "    </tr>\n",
       "    <tr>\n",
       "      <th>2021-01-10</th>\n",
       "      <td>0.173542</td>\n",
       "    </tr>\n",
       "    <tr>\n",
       "      <th>2021-01-11</th>\n",
       "      <td>0.029180</td>\n",
       "    </tr>\n",
       "    <tr>\n",
       "      <th>2021-01-12</th>\n",
       "      <td>-0.165298</td>\n",
       "    </tr>\n",
       "    <tr>\n",
       "      <th>...</th>\n",
       "      <td>...</td>\n",
       "    </tr>\n",
       "    <tr>\n",
       "      <th>2022-12-27</th>\n",
       "      <td>-1.509556</td>\n",
       "    </tr>\n",
       "    <tr>\n",
       "      <th>2022-12-28</th>\n",
       "      <td>-1.525193</td>\n",
       "    </tr>\n",
       "    <tr>\n",
       "      <th>2022-12-29</th>\n",
       "      <td>-1.536718</td>\n",
       "    </tr>\n",
       "    <tr>\n",
       "      <th>2022-12-30</th>\n",
       "      <td>-1.530137</td>\n",
       "    </tr>\n",
       "    <tr>\n",
       "      <th>2022-12-31</th>\n",
       "      <td>-1.532359</td>\n",
       "    </tr>\n",
       "  </tbody>\n",
       "</table>\n",
       "<p>722 rows × 1 columns</p>\n",
       "</div>"
      ],
      "text/plain": [
       "                 BTC\n",
       "Date                \n",
       "2021-01-08  0.119085\n",
       "2021-01-09  0.204536\n",
       "2021-01-10  0.173542\n",
       "2021-01-11  0.029180\n",
       "2021-01-12 -0.165298\n",
       "...              ...\n",
       "2022-12-27 -1.509556\n",
       "2022-12-28 -1.525193\n",
       "2022-12-29 -1.536718\n",
       "2022-12-30 -1.530137\n",
       "2022-12-31 -1.532359\n",
       "\n",
       "[722 rows x 1 columns]"
      ]
     },
     "execution_count": 397,
     "metadata": {},
     "output_type": "execute_result"
    }
   ],
   "source": [
    "#Testing prediction\n",
    "ypred = en.predict(Xtest)\n",
    "print(\"Predicted y values:\", ypred)\n",
    "Ytest"
   ]
  },
  {
   "cell_type": "markdown",
   "id": "c3da2b11",
   "metadata": {},
   "source": [
    "The Mean Absolute Error (MSE) and Rsquared (R^2) metrics is used to measure the performance "
   ]
  },
  {
   "cell_type": "code",
   "execution_count": 402,
   "id": "f6979576",
   "metadata": {},
   "outputs": [],
   "source": [
    "import numpy as np\n",
    "from sklearn.metrics import confusion_matrix\n",
    "\n",
    "y_true= np.array(Ytest[\"BTC\"])\n",
    "y_predict = np.array(Ytrain[\"BTC\"])\n"
   ]
  },
  {
   "cell_type": "code",
   "execution_count": null,
   "id": "bbe65f50",
   "metadata": {},
   "outputs": [],
   "source": []
  },
  {
   "cell_type": "code",
   "execution_count": null,
   "id": "1268decd",
   "metadata": {},
   "outputs": [],
   "source": []
  }
 ],
 "metadata": {
  "kernelspec": {
   "display_name": "Python 3 (ipykernel)",
   "language": "python",
   "name": "python3"
  },
  "language_info": {
   "codemirror_mode": {
    "name": "ipython",
    "version": 3
   },
   "file_extension": ".py",
   "mimetype": "text/x-python",
   "name": "python",
   "nbconvert_exporter": "python",
   "pygments_lexer": "ipython3",
   "version": "3.9.12"
  }
 },
 "nbformat": 4,
 "nbformat_minor": 5
}
