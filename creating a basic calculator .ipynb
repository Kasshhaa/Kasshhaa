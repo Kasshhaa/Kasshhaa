{
 "cells": [
  {
   "cell_type": "code",
   "execution_count": 1,
   "id": "6a95ed8c",
   "metadata": {},
   "outputs": [
    {
     "name": "stdout",
     "output_type": "stream",
     "text": [
      "Enter number 1 here: 7\n",
      "Enter number 2 here: 7\n",
      "Choose between *, +, -, /: -\n",
      "0\n"
     ]
    }
   ],
   "source": [
    "# DAY 1- 21.11 creating a basic calculator \n",
    "def basic (num1,num2,op):\n",
    "\n",
    "    if op not in \"*+-/\":\n",
    "        return \"type one of these  *, +, -, /\"\n",
    "    if op == \"+\":\n",
    "        return (str(num1+ num2))\n",
    "    if op == \"-\":\n",
    "        return(str(num1- num2))\n",
    "    if op == \"*\":\n",
    "        return(str(num1* num2))\n",
    "    if op == \"/\":\n",
    "        return(str(num1/ num2))\n",
    "    \n",
    "def main():  # Wrapper function\n",
    "\n",
    "    num1 = int(input(\"Enter number 1 here: \"))\n",
    "    num2 = int(input(\"Enter number 2 here: \"))\n",
    "    op = input(\"Choose between *, +, -, /: \")\n",
    "    \n",
    "    print(basic(num1, num2, op))\n",
    "\n",
    "if __name__ == '__main__':\n",
    "    main()"
   ]
  },
  {
   "cell_type": "code",
   "execution_count": null,
   "id": "d56e9a09",
   "metadata": {},
   "outputs": [],
   "source": []
  }
 ],
 "metadata": {
  "kernelspec": {
   "display_name": "Python 3 (ipykernel)",
   "language": "python",
   "name": "python3"
  },
  "language_info": {
   "codemirror_mode": {
    "name": "ipython",
    "version": 3
   },
   "file_extension": ".py",
   "mimetype": "text/x-python",
   "name": "python",
   "nbconvert_exporter": "python",
   "pygments_lexer": "ipython3",
   "version": "3.9.12"
  }
 },
 "nbformat": 4,
 "nbformat_minor": 5
}
